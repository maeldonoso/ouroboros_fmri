{
 "cells": [
  {
   "cell_type": "markdown",
   "metadata": {},
   "source": [
    "# **Ouroboros fMRI: Predicting human brain activity with machine learning models**\n",
    "\n",
    "#### Version: 10th March 2021\n",
    "\n",
    "==============================================================================================\n",
    "\n",
    "Project developed by Maël Donoso, Ph.D. in Cognitive and Computational Neuroscience. Affiliations: Ouroboros Neurotechnologies (https://ouroboros-neurotechnologies.com/), Institut Lémanique du Cerveau (https://institut-cerveau.ch/), Policlinique Ostéopathique de Lausanne (https://policlinique-osteopathique-lausanne.ch/). \n",
    "\n",
    "The first version of this project (17th February 2021) was presented as a Capstone Project for the COS in Applied Data Science: Machine Learning of the EPFL Extension School (https://www.extensionschool.ch/)."
   ]
  },
  {
   "cell_type": "markdown",
   "metadata": {},
   "source": [
    "==============================================================================================\n",
    "\n",
    "This project is presented through six Notebooks:\n",
    "\n",
    "*01: Data Analysis*\n",
    "\n",
    "*02: Classification* (all classification models except neural networks)\n",
    "\n",
    "***03: Neural Networks***\n",
    "\n",
    "*04: Regression*\n",
    "\n",
    "*05: Results*\n",
    "\n",
    "*06: Complements*\n",
    "\n",
    "=============================================================================================="
   ]
  },
  {
   "cell_type": "markdown",
   "metadata": {},
   "source": [
    "### Notebook 03\n",
    "\n",
    "# **Neural Networks**"
   ]
  },
  {
   "cell_type": "markdown",
   "metadata": {},
   "source": [
    "## **1. Parameters and functions**\n",
    "\n",
    "In this Notebook, we will run **different types of neural networks**, but some parameters will be common between all models. First, the **train-validation split** will always be defined as 80%-20%, i.e. the same proportions as in the cross-validated runs from the previous Notebook. Since we have 120 elements in the train+valid dataset, we will obtain a split of 96-24 elements. Second, the **batch size** will always be defined as 96, which is the length of the train sets obtained after the splitting. Since our dataset contains a limited number of elements, it does not seem necessary to divide it further into batches. \n",
    "\n",
    "Neural networks are stochastic by nature, and show a **certain variability** each time they are run. In our case, this variability can be significant: since we have only 36 elements in the test set, the correct or incorrect classification of a few of them can have a certain effect on the percentage of accuracy. But like in the previous Notebook, we are mostly interested in comparing the accuracy of the models to the baseline of 33%. \n",
    "\n",
    "In the following cells, we define a series of functions that will be helpful throughout the Notebook to **display the results from our neural networks with graphs**, and to compute **confusion matrixes** to visualize the accuracy of our predictions. "
   ]
  },
  {
   "cell_type": "code",
   "execution_count": 1,
   "metadata": {},
   "outputs": [],
   "source": [
    "import os\n",
    "import numpy as np\n",
    "import pandas as pd\n",
    "import matplotlib.pyplot as plt\n",
    "%matplotlib inline\n",
    "from sklearn.metrics import confusion_matrix"
   ]
  },
  {
   "cell_type": "code",
   "execution_count": 2,
   "metadata": {},
   "outputs": [],
   "source": [
    "# Define batch size and validation split. \n",
    "batch_size = 96\n",
    "validation_split = 0.2"
   ]
  },
  {
   "cell_type": "code",
   "execution_count": 3,
   "metadata": {},
   "outputs": [],
   "source": [
    "# Define a function to plot the results of the neural network training. \n",
    "def neural_network_graph(history):\n",
    "    fig, axes = plt.subplots(nrows = 1, ncols = 2, figsize = (12, 4))\n",
    "\n",
    "    # Plot loss values. \n",
    "    axes[0].plot(history.history['loss'], label = 'train loss', color = 'blue')\n",
    "    axes[0].plot(history.history['val_loss'], label = 'val loss', color = 'green')\n",
    "    axes[0].set_title('Validation loss {:.3f} (mean last 3)'.format(\n",
    "        np.mean(history.history['val_loss'][-3:]) # Take the mean of the last three values. \n",
    "    ))\n",
    "    axes[0].set_xlabel('Epoch')\n",
    "    axes[0].set_ylabel('Loss value')\n",
    "    axes[0].legend()\n",
    "\n",
    "    # Plot accuracy values. \n",
    "    axes[1].plot(history.history['acc'], label = 'train acc', color = 'blue')\n",
    "    axes[1].plot(history.history['val_acc'], label = 'val acc', color = 'green')\n",
    "    axes[1].set_title('Validation accuracy {:.3f} (mean last 3)'.format(\n",
    "        np.mean(history.history['val_acc'][-3:]) # Take the mean of the last three values. \n",
    "    ))\n",
    "    axes[1].set_xlabel('Epoch')\n",
    "    axes[1].set_ylabel('Accuracy')\n",
    "    axes[1].legend();"
   ]
  },
  {
   "cell_type": "code",
   "execution_count": 4,
   "metadata": {},
   "outputs": [],
   "source": [
    "# Define a function to plot the results of the convolutional neural network training. \n",
    "def convolutional_neural_network_graph(neurological_axis):\n",
    "    fig, axes = plt.subplots(nrows = 1, ncols = 2, figsize = (12, 5))\n",
    "    convnet_results = eval('convnet_results_' + neurological_axis)\n",
    "    convnet_non_zeros = eval('convnet_non_zeros_' + neurological_axis)\n",
    "    \n",
    "    # Normalize and reindex the number of non-zero values. \n",
    "    convnet_non_zeros = pd.Series(convnet_non_zeros / np.max(convnet_non_zeros))\n",
    "    convnet_non_zeros.index = convnet_results.index\n",
    "\n",
    "    # Plot test accuracy and non-zero values. \n",
    "    axes[0].plot(convnet_results.test_accuracy_convnet, color = 'blue')\n",
    "    axes[0].set_xlabel('Sections through the ' + neurological_axis + ' view')\n",
    "    axes[0].set_ylabel('Accuracy')\n",
    "    axes[0].set_title('Accuracy through the ' + neurological_axis + ' view')\n",
    "    axes[1].plot(convnet_non_zeros, '--', color = 'purple')\n",
    "    axes[1].set_xlabel('Sections through the ' + neurological_axis + ' view')\n",
    "    axes[1].set_ylabel('Non-zero values')\n",
    "    axes[1].set_title('Non-zero values through the ' + neurological_axis + ' view');"
   ]
  },
  {
   "cell_type": "code",
   "execution_count": 5,
   "metadata": {},
   "outputs": [],
   "source": [
    "# Define a function to generate a Scikit-learn confusion matrix. \n",
    "def scikit_learn_confusion_matrix(y_te, y_pred):\n",
    "    # Compute the confusion matrix. \n",
    "    labels = ['good', 'neutral', 'bad']\n",
    "    matrix = confusion_matrix(\n",
    "        y_true = y_te,\n",
    "        y_pred = y_pred, \n",
    "        labels = labels\n",
    "    )\n",
    "\n",
    "    # Return confusion matrix as a DataFrame. \n",
    "    matrix_df = pd.DataFrame(data = matrix, columns = labels, index = labels)\n",
    "    matrix_df.columns.name = 'Predictions'\n",
    "    matrix_df.index.name = 'True class'\n",
    "    return matrix_df"
   ]
  },
  {
   "cell_type": "code",
   "execution_count": 6,
   "metadata": {},
   "outputs": [],
   "source": [
    "# Define a function to generate a custom confusion matrix. \n",
    "def custom_confusion_matrix(y_te, y_pred):\n",
    "    # Compute the confusion matrix. \n",
    "    pred_comparison = pd.DataFrame([y_te, y_pred], index = ['y_te', 'y_pred']).T\n",
    "    labels = ['good', 'neutral', 'bad']\n",
    "    matrix_df = pd.DataFrame()\n",
    "    for y_te_value in labels:\n",
    "        for y_pred_value in labels:\n",
    "            matrix_df.loc[y_te_value, y_pred_value] = np.sum((pred_comparison.y_te == y_te_value) & \n",
    "                                                             (pred_comparison.y_pred == y_pred_value))\n",
    "\n",
    "    # Return confusion matrix as a DataFrame. \n",
    "    matrix_df.columns.name = 'Predictions'\n",
    "    matrix_df.index.name = 'True class'\n",
    "    return matrix_df.astype(int)"
   ]
  },
  {
   "cell_type": "markdown",
   "metadata": {},
   "source": [
    "## **2. Data import**"
   ]
  },
  {
   "cell_type": "code",
   "execution_count": 7,
   "metadata": {},
   "outputs": [],
   "source": [
    "# Define the preprocessed data path. \n",
    "preprocessed_data_path = '../ouroboros_fmri_preprocessed_data/'\n",
    "\n",
    "# Define the results path. If empty, the results will be saved in the current directory. \n",
    "results_path = ''"
   ]
  },
  {
   "cell_type": "code",
   "execution_count": 8,
   "metadata": {},
   "outputs": [],
   "source": [
    "# Select rescale mode. \n",
    "# 1: original data | 2, 3, 4: voxel size rescaled by a factor 2, 3 or 4. \n",
    "rescale_mode = 1"
   ]
  },
  {
   "cell_type": "code",
   "execution_count": 9,
   "metadata": {},
   "outputs": [],
   "source": [
    "# Load data. \n",
    "with np.load(preprocessed_data_path + 'datasets_for_machine_learning.npz', allow_pickle = False) as npz_file:\n",
    "    data_dict = dict(npz_file.items())\n",
    "rescale_modes_list = ['', '_r2', '_r3', '_r4']\n",
    "    \n",
    "# Features of the train+valid dataset. \n",
    "X = data_dict['features_preprocessed' + rescale_modes_list[rescale_mode - 1] + '_tr']\n",
    "X_convnet = data_dict['features_convnet' + rescale_modes_list[rescale_mode - 1] + '_tr']\n",
    "\n",
    "# Features of the test dataset. \n",
    "X_te = data_dict['features_preprocessed' + rescale_modes_list[rescale_mode - 1] + '_te']\n",
    "X_convnet_te = data_dict['features_convnet' + rescale_modes_list[rescale_mode - 1] + '_te']\n",
    "\n",
    "# Target variables. \n",
    "y = data_dict['target_tr']\n",
    "y_te = data_dict['target_te']"
   ]
  },
  {
   "cell_type": "code",
   "execution_count": 10,
   "metadata": {},
   "outputs": [
    {
     "name": "stdout",
     "output_type": "stream",
     "text": [
      "X:            (120, 256007)\n",
      "X_convnet:    (120, 91, 109, 91)\n",
      "X_te:         (36, 256007)\n",
      "X_convnet_te: (36, 91, 109, 91)\n",
      "y:            (120,)\n",
      "y_te:         (36,)\n"
     ]
    }
   ],
   "source": [
    "# Display the size of the arrays. \n",
    "print('X:           ', X.shape)\n",
    "print('X_convnet:   ', X_convnet.shape)\n",
    "print('X_te:        ', X_te.shape)\n",
    "print('X_convnet_te:', X_convnet_te.shape)\n",
    "print('y:           ', y.shape)\n",
    "print('y_te:        ', y_te.shape)"
   ]
  },
  {
   "cell_type": "markdown",
   "metadata": {},
   "source": [
    "## **3. Dense neural network: 1-layer**\n",
    "\n",
    "In the following cells, we **run and compute the predictions from a 1-layer neural network model**. "
   ]
  },
  {
   "cell_type": "code",
   "execution_count": 11,
   "metadata": {},
   "outputs": [],
   "source": [
    "from sklearn.preprocessing import StandardScaler\n",
    "import tensorflow as tf\n",
    "import tensorflow.keras as keras\n",
    "from tensorflow.keras import Sequential\n",
    "from tensorflow.keras.layers import Dense\n",
    "from tensorflow.keras import activations\n",
    "from tensorflow.keras import initializers\n",
    "from tensorflow.keras import optimizers"
   ]
  },
  {
   "cell_type": "code",
   "execution_count": 12,
   "metadata": {},
   "outputs": [
    {
     "name": "stdout",
     "output_type": "stream",
     "text": [
      "Train: (120, 256007)\n",
      "Test: (36, 256007)\n"
     ]
    }
   ],
   "source": [
    "# Rescale features variables. \n",
    "scaler = StandardScaler()\n",
    "X_standardized = scaler.fit_transform(X)\n",
    "X_te_standardized = scaler.transform(X_te)\n",
    "\n",
    "print('Train:', X_standardized.shape)\n",
    "print('Test:', X_te_standardized.shape)"
   ]
  },
  {
   "cell_type": "code",
   "execution_count": 13,
   "metadata": {},
   "outputs": [],
   "source": [
    "# Encode target variable. \n",
    "y_encoded = pd.get_dummies(y)\n",
    "y_te_encoded = pd.get_dummies(y_te)"
   ]
  },
  {
   "cell_type": "code",
   "execution_count": 14,
   "metadata": {},
   "outputs": [
    {
     "data": {
      "text/plain": [
       "array(['bad', 'good', 'neutral'], dtype='<U7')"
      ]
     },
     "execution_count": 14,
     "metadata": {},
     "output_type": "execute_result"
    }
   ],
   "source": [
    "# Get and display the encoding order. \n",
    "encoding_order = np.unique(y_te)\n",
    "encoding_order"
   ]
  },
  {
   "cell_type": "code",
   "execution_count": 15,
   "metadata": {},
   "outputs": [
    {
     "name": "stdout",
     "output_type": "stream",
     "text": [
      "_________________________________________________________________\n",
      "Layer (type)                 Output Shape              Param #   \n",
      "=================================================================\n",
      "dense (Dense)                (None, 3)                 768024    \n",
      "=================================================================\n",
      "Total params: 768,024\n",
      "Trainable params: 768,024\n",
      "Non-trainable params: 0\n",
      "_________________________________________________________________\n"
     ]
    }
   ],
   "source": [
    "# Create model. \n",
    "model_dense1 = Sequential()\n",
    "\n",
    "# Output layer. \n",
    "model_dense1.add(Dense(\n",
    "    units = 3, activation = activations.softmax, input_dim = X_standardized.shape[1],\n",
    "    kernel_initializer = initializers.VarianceScaling(scale = 1.0, seed = 0)))\n",
    "\n",
    "# Define loss function, optimizer and metrics to track during training. \n",
    "model_dense1.compile(optimizer = 'sgd', loss = 'categorical_crossentropy', metrics = ['acc'])\n",
    "\n",
    "# Print network summary. \n",
    "model_dense1.summary()"
   ]
  },
  {
   "cell_type": "code",
   "execution_count": 16,
   "metadata": {},
   "outputs": [
    {
     "data": {
      "text/plain": [
       "True"
      ]
     },
     "execution_count": 16,
     "metadata": {},
     "output_type": "execute_result"
    }
   ],
   "source": [
    "# Security check: verify that the number of parameters corresponds to what is expected, \n",
    "# i.e. the number of features multiplied by the number of target classes, plus the biases for each output neuron. \n",
    "model_dense1.count_params() == ((X_standardized.shape[1] * 3) + 3)"
   ]
  },
  {
   "cell_type": "code",
   "execution_count": 17,
   "metadata": {},
   "outputs": [
    {
     "name": "stdout",
     "output_type": "stream",
     "text": [
      "Train on 96 samples, validate on 24 samples\n",
      "Epoch 1/100\n",
      "96/96 [==============================] - 1s 6ms/step - loss: 1.4602 - acc: 0.3542 - val_loss: 9.9689 - val_acc: 0.3333\n",
      "Epoch 2/100\n",
      "96/96 [==============================] - 0s 2ms/step - loss: 8.2299 - acc: 0.4688 - val_loss: 9.6627 - val_acc: 0.3750\n",
      "Epoch 3/100\n",
      "96/96 [==============================] - 0s 2ms/step - loss: 8.7071 - acc: 0.4375 - val_loss: 9.6422 - val_acc: 0.3750\n",
      "Epoch 4/100\n",
      "96/96 [==============================] - 0s 1ms/step - loss: 8.2765 - acc: 0.4688 - val_loss: 9.4167 - val_acc: 0.3750\n",
      "Epoch 5/100\n",
      "96/96 [==============================] - 0s 1ms/step - loss: 8.6318 - acc: 0.4583 - val_loss: 9.2910 - val_acc: 0.3750\n",
      "Epoch 6/100\n",
      "96/96 [==============================] - 0s 1ms/step - loss: 8.5548 - acc: 0.4583 - val_loss: 9.2380 - val_acc: 0.3750\n",
      "Epoch 7/100\n",
      "96/96 [==============================] - 0s 1ms/step - loss: 8.5126 - acc: 0.4583 - val_loss: 9.2721 - val_acc: 0.3750\n",
      "Epoch 8/100\n",
      "96/96 [==============================] - 0s 1ms/step - loss: 8.6778 - acc: 0.4583 - val_loss: 9.3698 - val_acc: 0.3750\n",
      "Epoch 9/100\n",
      "96/96 [==============================] - 0s 1ms/step - loss: 8.3607 - acc: 0.4688 - val_loss: 8.9271 - val_acc: 0.4167\n",
      "Epoch 10/100\n",
      "96/96 [==============================] - 0s 1ms/step - loss: 8.2792 - acc: 0.4583 - val_loss: 9.2016 - val_acc: 0.3750\n",
      "Epoch 11/100\n",
      "96/96 [==============================] - 0s 1ms/step - loss: 8.3888 - acc: 0.4688 - val_loss: 9.1824 - val_acc: 0.3750\n",
      "Epoch 12/100\n",
      "96/96 [==============================] - 0s 1ms/step - loss: 8.1195 - acc: 0.4792 - val_loss: 9.2094 - val_acc: 0.3750\n",
      "Epoch 13/100\n",
      "96/96 [==============================] - 0s 1ms/step - loss: 8.1562 - acc: 0.4896 - val_loss: 9.2387 - val_acc: 0.3750\n",
      "Epoch 14/100\n",
      "96/96 [==============================] - 0s 1ms/step - loss: 8.2855 - acc: 0.4792 - val_loss: 9.1650 - val_acc: 0.3750\n",
      "Epoch 15/100\n",
      "96/96 [==============================] - 0s 1ms/step - loss: 8.0591 - acc: 0.5000 - val_loss: 9.1649 - val_acc: 0.3750\n"
     ]
    }
   ],
   "source": [
    "# End training when accuracy stops improving. \n",
    "early_stopping = keras.callbacks.EarlyStopping(monitor = 'val_loss', patience = 6)\n",
    "\n",
    "# Fit model. \n",
    "history_dense1 = model_dense1.fit(\n",
    "    x = X_standardized, y = y_encoded,\n",
    "    validation_split = validation_split, batch_size = batch_size, epochs = 100,\n",
    "    shuffle = True, callbacks = [early_stopping]\n",
    ")"
   ]
  },
  {
   "cell_type": "code",
   "execution_count": 18,
   "metadata": {},
   "outputs": [
    {
     "data": {
      "image/png": "[encoded data removed]",
      "text/plain": [
       "<Figure size 864x288 with 2 Axes>"
      ]
     },
     "metadata": {
      "needs_background": "light"
     },
     "output_type": "display_data"
    }
   ],
   "source": [
    "# Display the results. \n",
    "neural_network_graph(history_dense1)"
   ]
  },
  {
   "cell_type": "code",
   "execution_count": 19,
   "metadata": {},
   "outputs": [
    {
     "name": "stdout",
     "output_type": "stream",
     "text": [
      "36/36 [==============================] - 0s 1ms/step\n",
      "Test loss: 3.07\n",
      "Test accuracy: 69.44%\n"
     ]
    }
   ],
   "source": [
    "# Evaluate test score. \n",
    "(test_loss, test_score_dense1) = model_dense1.evaluate(X_te_standardized, y_te_encoded, batch_size = batch_size)\n",
    "\n",
    "print('Test loss: {:.2f}'.format(test_loss))\n",
    "print('Test accuracy: {:.2f}%'.format(100 * test_score_dense1))"
   ]
  },
  {
   "cell_type": "code",
   "execution_count": 20,
   "metadata": {},
   "outputs": [
    {
     "data": {
      "text/plain": [
       "array(['bad', 'bad', 'neutral', 'bad', 'bad', 'bad', 'neutral', 'neutral',\n",
       "       'neutral', 'neutral', 'neutral', 'neutral', 'neutral', 'good',\n",
       "       'neutral', 'neutral', 'bad', 'bad', 'good', 'good', 'neutral',\n",
       "       'neutral', 'bad', 'bad', 'neutral', 'bad', 'neutral', 'neutral',\n",
       "       'bad', 'bad', 'neutral', 'good', 'neutral', 'neutral', 'bad',\n",
       "       'bad'], dtype='<U7')"
      ]
     },
     "execution_count": 20,
     "metadata": {},
     "output_type": "execute_result"
    }
   ],
   "source": [
    "# Compute and display the predictions of the neural network. \n",
    "y_pred_dense1 = encoding_order[model_dense1.predict_classes(X_te_standardized)]\n",
    "y_pred_dense1"
   ]
  },
  {
   "cell_type": "code",
   "execution_count": 21,
   "metadata": {},
   "outputs": [
    {
     "data": {
      "text/plain": [
       "0.6944444444444444"
      ]
     },
     "execution_count": 21,
     "metadata": {},
     "output_type": "execute_result"
    }
   ],
   "source": [
    "# Security check: compute the accuracy from these predictions. \n",
    "test_score_dense1_from_pred = np.sum(y_pred_dense1 == y_te) / len(y_te)\n",
    "test_score_dense1_from_pred"
   ]
  },
  {
   "cell_type": "code",
   "execution_count": 22,
   "metadata": {},
   "outputs": [
    {
     "data": {
      "text/plain": [
       "True"
      ]
     },
     "execution_count": 22,
     "metadata": {},
     "output_type": "execute_result"
    }
   ],
   "source": [
    "# Verify if the two accuracies are equal. \n",
    "np.round(test_score_dense1_from_pred, 4) == np.round(test_score_dense1, 4)"
   ]
  },
  {
   "cell_type": "code",
   "execution_count": 23,
   "metadata": {},
   "outputs": [
    {
     "data": {
      "text/html": [
       "<div>\n",
       "<style scoped>\n",
       "    .dataframe tbody tr th:only-of-type {\n",
       "        vertical-align: middle;\n",
       "    }\n",
       "\n",
       "    .dataframe tbody tr th {\n",
       "        vertical-align: top;\n",
       "    }\n",
       "\n",
       "    .dataframe thead th {\n",
       "        text-align: right;\n",
       "    }\n",
       "</style>\n",
       "<table border=\"1\" class=\"dataframe\">\n",
       "  <thead>\n",
       "    <tr style=\"text-align: right;\">\n",
       "      <th>Predictions</th>\n",
       "      <th>good</th>\n",
       "      <th>neutral</th>\n",
       "      <th>bad</th>\n",
       "    </tr>\n",
       "    <tr>\n",
       "      <th>True class</th>\n",
       "      <th></th>\n",
       "      <th></th>\n",
       "      <th></th>\n",
       "    </tr>\n",
       "  </thead>\n",
       "  <tbody>\n",
       "    <tr>\n",
       "      <th>good</th>\n",
       "      <td>4</td>\n",
       "      <td>5</td>\n",
       "      <td>3</td>\n",
       "    </tr>\n",
       "    <tr>\n",
       "      <th>neutral</th>\n",
       "      <td>0</td>\n",
       "      <td>11</td>\n",
       "      <td>1</td>\n",
       "    </tr>\n",
       "    <tr>\n",
       "      <th>bad</th>\n",
       "      <td>0</td>\n",
       "      <td>2</td>\n",
       "      <td>10</td>\n",
       "    </tr>\n",
       "  </tbody>\n",
       "</table>\n",
       "</div>"
      ],
      "text/plain": [
       "Predictions  good  neutral  bad\n",
       "True class                     \n",
       "good            4        5    3\n",
       "neutral         0       11    1\n",
       "bad             0        2   10"
      ]
     },
     "execution_count": 23,
     "metadata": {},
     "output_type": "execute_result"
    }
   ],
   "source": [
    "# Display a Scikit-learn confusion matrix. \n",
    "confusion_matrix_dense1 = scikit_learn_confusion_matrix(y_te, y_pred_dense1)\n",
    "confusion_matrix_dense1"
   ]
  },
  {
   "cell_type": "code",
   "execution_count": 24,
   "metadata": {},
   "outputs": [
    {
     "data": {
      "text/html": [
       "<div>\n",
       "<style scoped>\n",
       "    .dataframe tbody tr th:only-of-type {\n",
       "        vertical-align: middle;\n",
       "    }\n",
       "\n",
       "    .dataframe tbody tr th {\n",
       "        vertical-align: top;\n",
       "    }\n",
       "\n",
       "    .dataframe thead th {\n",
       "        text-align: right;\n",
       "    }\n",
       "</style>\n",
       "<table border=\"1\" class=\"dataframe\">\n",
       "  <thead>\n",
       "    <tr style=\"text-align: right;\">\n",
       "      <th>Predictions</th>\n",
       "      <th>good</th>\n",
       "      <th>neutral</th>\n",
       "      <th>bad</th>\n",
       "    </tr>\n",
       "    <tr>\n",
       "      <th>True class</th>\n",
       "      <th></th>\n",
       "      <th></th>\n",
       "      <th></th>\n",
       "    </tr>\n",
       "  </thead>\n",
       "  <tbody>\n",
       "    <tr>\n",
       "      <th>good</th>\n",
       "      <td>4</td>\n",
       "      <td>5</td>\n",
       "      <td>3</td>\n",
       "    </tr>\n",
       "    <tr>\n",
       "      <th>neutral</th>\n",
       "      <td>0</td>\n",
       "      <td>11</td>\n",
       "      <td>1</td>\n",
       "    </tr>\n",
       "    <tr>\n",
       "      <th>bad</th>\n",
       "      <td>0</td>\n",
       "      <td>2</td>\n",
       "      <td>10</td>\n",
       "    </tr>\n",
       "  </tbody>\n",
       "</table>\n",
       "</div>"
      ],
      "text/plain": [
       "Predictions  good  neutral  bad\n",
       "True class                     \n",
       "good            4        5    3\n",
       "neutral         0       11    1\n",
       "bad             0        2   10"
      ]
     },
     "execution_count": 24,
     "metadata": {},
     "output_type": "execute_result"
    }
   ],
   "source": [
    "# Security check: display a custom confusion matrix. \n",
    "custom_confusion_matrix_dense1 = custom_confusion_matrix(y_te, y_pred_dense1)\n",
    "custom_confusion_matrix_dense1"
   ]
  },
  {
   "cell_type": "code",
   "execution_count": 25,
   "metadata": {},
   "outputs": [
    {
     "data": {
      "text/plain": [
       "True"
      ]
     },
     "execution_count": 25,
     "metadata": {},
     "output_type": "execute_result"
    }
   ],
   "source": [
    "# Verify if the two confusion matrixes are equal. \n",
    "confusion_matrix_dense1.equals(custom_confusion_matrix_dense1)"
   ]
  },
  {
   "cell_type": "markdown",
   "metadata": {},
   "source": [
    "**Result:** The 1-layer neural network model performs better than the baseline of 33%. "
   ]
  },
  {
   "cell_type": "markdown",
   "metadata": {},
   "source": [
    "## **4. Dense neural network: 2-layer**\n",
    "\n",
    "In the following cells, we **run and compute the predictions from a 2-layer neural network model**. We add both a dropout and a L2 regularization to the hidden layer. The number of units in the hidden layer was defined by trial and error. For the dropout and the regularization parameters, we simply use values that seem widely used by the machine learning community. "
   ]
  },
  {
   "cell_type": "code",
   "execution_count": 26,
   "metadata": {},
   "outputs": [],
   "source": [
    "from tensorflow.keras.layers import Dropout\n",
    "from tensorflow.keras.regularizers import l2"
   ]
  },
  {
   "cell_type": "code",
   "execution_count": 27,
   "metadata": {},
   "outputs": [
    {
     "name": "stdout",
     "output_type": "stream",
     "text": [
      "_________________________________________________________________\n",
      "Layer (type)                 Output Shape              Param #   \n",
      "=================================================================\n",
      "dense_1 (Dense)              (None, 256)               65538048  \n",
      "_________________________________________________________________\n",
      "dropout (Dropout)            (None, 256)               0         \n",
      "_________________________________________________________________\n",
      "dense_2 (Dense)              (None, 3)                 771       \n",
      "=================================================================\n",
      "Total params: 65,538,819\n",
      "Trainable params: 65,538,819\n",
      "Non-trainable params: 0\n",
      "_________________________________________________________________\n"
     ]
    }
   ],
   "source": [
    "# Create model. \n",
    "model_dense2 = Sequential()\n",
    "\n",
    "# Hidden layer. \n",
    "model_dense2.add(Dense(\n",
    "    units = 256, activation = activations.relu, input_dim = X_standardized.shape[1],\n",
    "    kernel_initializer = initializers.VarianceScaling(scale = 2.0, seed = 0),\n",
    "    kernel_regularizer = l2(0.01), bias_regularizer = l2(0.01)))\n",
    "model_dense2.add(Dropout(0.5, seed = 0))\n",
    "\n",
    "# Output layer. \n",
    "model_dense2.add(Dense(\n",
    "    units = 3, activation = activations.softmax,\n",
    "    kernel_initializer = initializers.VarianceScaling(scale = 1.0, seed = 0)))\n",
    "\n",
    "# Define loss function, optimizer and metrics to track during training. \n",
    "model_dense2.compile(optimizer = 'sgd', loss = 'categorical_crossentropy', metrics = ['acc'])\n",
    "\n",
    "# Print network summary. \n",
    "model_dense2.summary()"
   ]
  },
  {
   "cell_type": "code",
   "execution_count": 28,
   "metadata": {},
   "outputs": [
    {
     "name": "stdout",
     "output_type": "stream",
     "text": [
      "Train on 96 samples, validate on 24 samples\n",
      "Epoch 1/100\n",
      "96/96 [==============================] - 6s 58ms/step - loss: 6.4334 - acc: 0.4479 - val_loss: 10.4875 - val_acc: 0.3333\n",
      "Epoch 2/100\n",
      "96/96 [==============================] - 1s 7ms/step - loss: 9.9695 - acc: 0.4688 - val_loss: 9.6232 - val_acc: 0.5417\n",
      "Epoch 3/100\n",
      "96/96 [==============================] - 1s 8ms/step - loss: 10.3028 - acc: 0.4688 - val_loss: 11.6879 - val_acc: 0.5000\n",
      "Epoch 4/100\n",
      "96/96 [==============================] - 1s 7ms/step - loss: 10.0800 - acc: 0.5312 - val_loss: 11.0214 - val_acc: 0.4583\n",
      "Epoch 5/100\n",
      "96/96 [==============================] - 1s 6ms/step - loss: 9.9034 - acc: 0.5625 - val_loss: 11.5326 - val_acc: 0.5000\n",
      "Epoch 6/100\n",
      "96/96 [==============================] - 1s 8ms/step - loss: 9.7203 - acc: 0.5729 - val_loss: 11.1612 - val_acc: 0.5000\n",
      "Epoch 7/100\n",
      "96/96 [==============================] - 1s 7ms/step - loss: 9.0443 - acc: 0.6250 - val_loss: 11.0749 - val_acc: 0.5417\n",
      "Epoch 8/100\n",
      "96/96 [==============================] - 1s 6ms/step - loss: 8.8245 - acc: 0.6042 - val_loss: 11.6078 - val_acc: 0.5000\n"
     ]
    }
   ],
   "source": [
    "# End training when accuracy stops improving. \n",
    "early_stopping = keras.callbacks.EarlyStopping(monitor = 'val_loss', patience = 6)\n",
    "\n",
    "# Fit model. \n",
    "history_dense2 = model_dense2.fit(\n",
    "    x = X_standardized, y = y_encoded,\n",
    "    validation_split = validation_split, batch_size = batch_size, epochs = 100,\n",
    "    shuffle = True, callbacks = [early_stopping]\n",
    ")"
   ]
  },
  {
   "cell_type": "code",
   "execution_count": 29,
   "metadata": {},
   "outputs": [
    {
     "data": {
      "image/png": "[encoded data removed]",
      "text/plain": [
       "<Figure size 864x288 with 2 Axes>"
      ]
     },
     "metadata": {
      "needs_background": "light"
     },
     "output_type": "display_data"
    }
   ],
   "source": [
    "# Display the results. \n",
    "neural_network_graph(history_dense2)"
   ]
  },
  {
   "cell_type": "code",
   "execution_count": 30,
   "metadata": {},
   "outputs": [
    {
     "name": "stdout",
     "output_type": "stream",
     "text": [
      "36/36 [==============================] - 0s 3ms/step\n",
      "Test loss: 7.40\n",
      "Test accuracy: 66.67%\n"
     ]
    }
   ],
   "source": [
    "# Evaluate test score. \n",
    "(test_loss, test_score_dense2) = model_dense2.evaluate(X_te_standardized, y_te_encoded, batch_size = batch_size)\n",
    "\n",
    "print('Test loss: {:.2f}'.format(test_loss))\n",
    "print('Test accuracy: {:.2f}%'.format(100 * test_score_dense2))"
   ]
  },
  {
   "cell_type": "code",
   "execution_count": 31,
   "metadata": {},
   "outputs": [
    {
     "data": {
      "text/plain": [
       "array(['good', 'good', 'neutral', 'neutral', 'bad', 'bad', 'neutral',\n",
       "       'neutral', 'neutral', 'neutral', 'neutral', 'neutral', 'neutral',\n",
       "       'neutral', 'neutral', 'neutral', 'bad', 'bad', 'good', 'good',\n",
       "       'neutral', 'neutral', 'bad', 'bad', 'bad', 'bad', 'bad', 'bad',\n",
       "       'bad', 'bad', 'neutral', 'good', 'neutral', 'neutral', 'bad',\n",
       "       'good'], dtype='<U7')"
      ]
     },
     "execution_count": 31,
     "metadata": {},
     "output_type": "execute_result"
    }
   ],
   "source": [
    "# Compute and display the predictions of the neural network. \n",
    "y_pred_dense2 = encoding_order[model_dense2.predict_classes(X_te_standardized)]\n",
    "y_pred_dense2"
   ]
  },
  {
   "cell_type": "code",
   "execution_count": 32,
   "metadata": {},
   "outputs": [
    {
     "data": {
      "text/html": [
       "<div>\n",
       "<style scoped>\n",
       "    .dataframe tbody tr th:only-of-type {\n",
       "        vertical-align: middle;\n",
       "    }\n",
       "\n",
       "    .dataframe tbody tr th {\n",
       "        vertical-align: top;\n",
       "    }\n",
       "\n",
       "    .dataframe thead th {\n",
       "        text-align: right;\n",
       "    }\n",
       "</style>\n",
       "<table border=\"1\" class=\"dataframe\">\n",
       "  <thead>\n",
       "    <tr style=\"text-align: right;\">\n",
       "      <th>Predictions</th>\n",
       "      <th>good</th>\n",
       "      <th>neutral</th>\n",
       "      <th>bad</th>\n",
       "    </tr>\n",
       "    <tr>\n",
       "      <th>True class</th>\n",
       "      <th></th>\n",
       "      <th></th>\n",
       "      <th></th>\n",
       "    </tr>\n",
       "  </thead>\n",
       "  <tbody>\n",
       "    <tr>\n",
       "      <th>good</th>\n",
       "      <td>5</td>\n",
       "      <td>5</td>\n",
       "      <td>2</td>\n",
       "    </tr>\n",
       "    <tr>\n",
       "      <th>neutral</th>\n",
       "      <td>0</td>\n",
       "      <td>10</td>\n",
       "      <td>2</td>\n",
       "    </tr>\n",
       "    <tr>\n",
       "      <th>bad</th>\n",
       "      <td>1</td>\n",
       "      <td>2</td>\n",
       "      <td>9</td>\n",
       "    </tr>\n",
       "  </tbody>\n",
       "</table>\n",
       "</div>"
      ],
      "text/plain": [
       "Predictions  good  neutral  bad\n",
       "True class                     \n",
       "good            5        5    2\n",
       "neutral         0       10    2\n",
       "bad             1        2    9"
      ]
     },
     "execution_count": 32,
     "metadata": {},
     "output_type": "execute_result"
    }
   ],
   "source": [
    "# Display a Scikit-learn confusion matrix. \n",
    "confusion_matrix_dense2 = scikit_learn_confusion_matrix(y_te, y_pred_dense2)\n",
    "confusion_matrix_dense2"
   ]
  },
  {
   "cell_type": "markdown",
   "metadata": {},
   "source": [
    "**Result:** The 2-layer neural network model performs better than the baseline of 33%. "
   ]
  },
  {
   "cell_type": "markdown",
   "metadata": {},
   "source": [
    "## **5. Convolutional neural network**\n",
    "\n",
    "In the following cells, we **run and compute the predictions from a convolutional neural network model (ConvNet)**, but the approach here is quite experimental. The main challenge for using ConvNets is that the statistical maps are 3D images, and not 2D images. In our ConvNets, kernels are tridimensional by nature, but their third dimension should normally be used to store the several layers of information of a pixel, typically the red, green and blue channels of a RGB image. We could use this third dimension to represent the third dimension of our statistical maps, but in that case the kernels would be at least 91 voxels deep, which is a lot. And indeed, preliminary tests were performed with this method, and the test accuracy stayed at 33%, which is the level of chance. This seemed to confirm that this method does not exploit accurately the information of a 3D brain map. A reasonable explanation may be that such kernels actually flatten the information along the third dimension, which is not optimal since in a 3D brain map, the signal is spatially distributed in such a way that all three dimensions are important. \n",
    "\n",
    "Here, we will use a different method, and approach this problem with a **grid search strategy**, by taking advantage of the fact that the statistical maps are normalized using the MNI template, which means that a certain section of a map, let's say [0, :, :], is comparable to a similar section of another map. In other words, while fitting directly a ConvNet on the 3D images appears to be difficult, it is easier to fit a series of ConvNets, each one on a specific section. The first ConvNet will be fitted on the section [0, :, :] of all the images, the second on the section [1, :, :], etc. In fact, we can slice a 3D brain map through three different axes, corresponding to the three neurological views. Therefore, we could actually fit a series of ConvNets on every [x, :, :] section corresponding to the **sagittal view**, a second series on every [:, y, :] section corresponding to the **coronal view**, and a third series on every [:, :, z] section corresponding to the **axial view**. \n",
    "\n",
    "Therefore, **instead of running a single ConvNet on 3D images, we will run a maximum of 291 (91 + 109 + 91) ConvNets on 2D images**. Once every ConvNet is run, we expect the distribution of test scores to be logical according to our knowledge of a 3D brain map. In particular, we expect that for the peripheral sections, which are mostly empty, the ConvNets should stay at an accuracy level corresponding to the level of chance, while in the central sections, which have much more information, the accuracy of the ConvNets should increase. Since running 291 ConvNets is computationally heavy, we will actually choose only a selection of sections through each neurological view. \n",
    "\n",
    "Of course, once the grid search is run, we will end up with a series of fitted models. Each model will provide a different classification of the test set, and **the final step will be to combine these predictions**. We will use a straightforward approach: for every statistical map of the test set, we will simply sum up the probabilities predicted by all the ConvNets, and select the target value with the highest sum. While simple, this approach seems quite robust. For the sections containing little information, typically the ones corresponding to peripheral images, the probabilities predicted by the ConvNets should be both similar and close to the level of chance, i.e. [0.33, 0.33, 0.33] for the three target values. Overall, these sections will have no effect towards one or another of these values. On the other hand, for the sections containing more information, the probabilities should be more oriented, for example [0.8, 0.05, 0.15], so these sections should actually contribute to the final selection of the most probable target value. \n",
    "\n",
    "As a final note, we should mention that the current version of Keras includes a tf.keras.layers.Conv3D module, corresponding to a **3D convolutional layer**. We will not use this module here, mostly because sliding kernels on the whole volume of our brain maps could be computationally heavy. While our method is arguably more complex, running a series of 2D convolutional layers will allow us to control the number of sections to include. Moreover, differentiating the predictions through the three neurological views, while also showing the distribution of non-zero values through these views, could give interesting insights into our data. "
   ]
  },
  {
   "cell_type": "code",
   "execution_count": 33,
   "metadata": {},
   "outputs": [],
   "source": [
    "def define_convnet(input_image_shape):\n",
    "    # Define the convolutional network. \n",
    "    model_convnet = keras.Sequential()\n",
    "    model_convnet.add(keras.layers.Conv2D(filters = 32, kernel_size = 5, strides = 2,\n",
    "                                  activation = 'relu', input_shape = input_image_shape))\n",
    "    model_convnet.add(keras.layers.MaxPool2D(pool_size = 2))\n",
    "    model_convnet.add(keras.layers.Flatten())\n",
    "    model_convnet.add(keras.layers.Dense(units = 3, activation = 'softmax'))\n",
    "    \n",
    "    # Define loss function, optimizer and metrics to track during training. \n",
    "    model_convnet.compile(optimizer = keras.optimizers.Adam(), loss = 'categorical_crossentropy', metrics = ['acc'])\n",
    "    \n",
    "    return model_convnet"
   ]
  },
  {
   "cell_type": "code",
   "execution_count": 34,
   "metadata": {},
   "outputs": [],
   "source": [
    "# Define the number of sections to explore. \n",
    "step = 3\n",
    "sagittal_sections = list(range(0, X_convnet.shape[1], step))\n",
    "coronal_sections = list(range(0, X_convnet.shape[2], step))\n",
    "axial_sections = list(range(0, X_convnet.shape[3], step))\n",
    "\n",
    "# Prepare empty data structures to save the results from the grid search. \n",
    "convnet_results_sagittal = pd.DataFrame()\n",
    "convnet_results_coronal = pd.DataFrame()\n",
    "convnet_results_axial = pd.DataFrame()\n",
    "convnet_predictions_sagittal = np.zeros((len(sagittal_sections), 36, 3))\n",
    "convnet_predictions_coronal = np.zeros((len(coronal_sections), 36, 3))\n",
    "convnet_predictions_axial = np.zeros((len(axial_sections), 36, 3))\n",
    "convnet_non_zeros_sagittal = np.zeros(len(sagittal_sections))\n",
    "convnet_non_zeros_coronal = np.zeros(len(coronal_sections))\n",
    "convnet_non_zeros_axial = np.zeros(len(axial_sections))\n",
    "\n",
    "# Define early stopping when accuracy stops improving. \n",
    "early_stopping = keras.callbacks.EarlyStopping(monitor = 'val_loss', patience = 6)"
   ]
  },
  {
   "cell_type": "markdown",
   "metadata": {},
   "source": [
    "### 5.1 Convolutional neural networks through sagittal view"
   ]
  },
  {
   "cell_type": "code",
   "execution_count": 35,
   "metadata": {},
   "outputs": [
    {
     "name": "stdout",
     "output_type": "stream",
     "text": [
      "Starting step: 0 / 31\n",
      "Starting step: 1 / 31\n",
      "Starting step: 2 / 31\n",
      "Starting step: 3 / 31\n",
      "Starting step: 4 / 31\n",
      "Starting step: 5 / 31\n",
      "Starting step: 6 / 31\n",
      "Starting step: 7 / 31\n",
      "Starting step: 8 / 31\n",
      "Starting step: 9 / 31\n",
      "Starting step: 10 / 31\n",
      "Starting step: 11 / 31\n",
      "Starting step: 12 / 31\n",
      "Starting step: 13 / 31\n",
      "Starting step: 14 / 31\n",
      "Starting step: 15 / 31\n",
      "Starting step: 16 / 31\n",
      "Starting step: 17 / 31\n",
      "Starting step: 18 / 31\n",
      "Starting step: 19 / 31\n",
      "Starting step: 20 / 31\n",
      "Starting step: 21 / 31\n",
      "Starting step: 22 / 31\n",
      "Starting step: 23 / 31\n",
      "Starting step: 24 / 31\n",
      "Starting step: 25 / 31\n",
      "Starting step: 26 / 31\n",
      "Starting step: 27 / 31\n",
      "Starting step: 28 / 31\n",
      "Starting step: 29 / 31\n",
      "Starting step: 30 / 31\n"
     ]
    }
   ],
   "source": [
    "# Run convolutional networks through sagittal sections. \n",
    "step_counter = 0\n",
    "\n",
    "for sagittal_section in sagittal_sections:\n",
    "    # Information. \n",
    "    print('Starting step:', step_counter, '/', str(len(sagittal_sections)))\n",
    "    \n",
    "    # Define the shape of the input image. \n",
    "    input_image_shape = (X_convnet.shape[2], X_convnet.shape[3], 1)\n",
    "    \n",
    "    # Define the convolutional network. \n",
    "    model_convnet = define_convnet(input_image_shape)\n",
    "\n",
    "    # Fit model. \n",
    "    history_convnet = model_convnet.fit(\n",
    "        x = X_convnet[:, sagittal_section, :, :, np.newaxis], \n",
    "        y = y_encoded,\n",
    "        validation_split = validation_split, batch_size = batch_size, epochs = 100, shuffle = True, callbacks = [early_stopping], verbose = 0)\n",
    "    \n",
    "    # Evaluate test score and predict targets for the test set. \n",
    "    (test_loss_convnet, test_accuracy_convnet) = model_convnet.evaluate(X_convnet_te[:, sagittal_section, :, :, np.newaxis], \n",
    "                                                                        y_te_encoded, batch_size = batch_size, verbose = 0)\n",
    "    test_predictions = model_convnet.predict(X_convnet_te[:, sagittal_section, :, :, np.newaxis], verbose = 0)\n",
    "    \n",
    "    # Save the results. \n",
    "    convnet_results_sagittal.loc[sagittal_section, 'test_loss_convnet'] = test_loss_convnet\n",
    "    convnet_results_sagittal.loc[sagittal_section, 'test_accuracy_convnet'] = test_accuracy_convnet\n",
    "    convnet_predictions_sagittal[step_counter, :, :] = test_predictions\n",
    "    \n",
    "    # Save the number of non-zero values in this section. \n",
    "    convnet_non_zeros_sagittal[step_counter] = np.sum(np.sum(X_convnet_te[:, sagittal_section, :, :], axis = 0) != 0)\n",
    "    \n",
    "    # Increment the section counter. \n",
    "    step_counter += 1"
   ]
  },
  {
   "cell_type": "code",
   "execution_count": 36,
   "metadata": {},
   "outputs": [
    {
     "data": {
      "image/png": "[encoded data removed]",
      "text/plain": [
       "<Figure size 864x360 with 2 Axes>"
      ]
     },
     "metadata": {
      "needs_background": "light"
     },
     "output_type": "display_data"
    }
   ],
   "source": [
    "# Display the results as a graph. \n",
    "convolutional_neural_network_graph('sagittal')"
   ]
  },
  {
   "cell_type": "markdown",
   "metadata": {},
   "source": [
    "### 5.2 Convolutional neural networks through coronal view"
   ]
  },
  {
   "cell_type": "code",
   "execution_count": 37,
   "metadata": {},
   "outputs": [
    {
     "name": "stdout",
     "output_type": "stream",
     "text": [
      "Starting step: 0 / 37\n",
      "Starting step: 1 / 37\n",
      "Starting step: 2 / 37\n",
      "Starting step: 3 / 37\n",
      "Starting step: 4 / 37\n",
      "Starting step: 5 / 37\n",
      "Starting step: 6 / 37\n",
      "Starting step: 7 / 37\n",
      "Starting step: 8 / 37\n",
      "Starting step: 9 / 37\n",
      "Starting step: 10 / 37\n",
      "Starting step: 11 / 37\n",
      "Starting step: 12 / 37\n",
      "Starting step: 13 / 37\n",
      "Starting step: 14 / 37\n",
      "Starting step: 15 / 37\n",
      "Starting step: 16 / 37\n",
      "Starting step: 17 / 37\n",
      "Starting step: 18 / 37\n",
      "Starting step: 19 / 37\n",
      "Starting step: 20 / 37\n",
      "Starting step: 21 / 37\n",
      "Starting step: 22 / 37\n",
      "Starting step: 23 / 37\n",
      "Starting step: 24 / 37\n",
      "Starting step: 25 / 37\n",
      "Starting step: 26 / 37\n",
      "Starting step: 27 / 37\n",
      "Starting step: 28 / 37\n",
      "Starting step: 29 / 37\n",
      "Starting step: 30 / 37\n",
      "Starting step: 31 / 37\n",
      "Starting step: 32 / 37\n",
      "Starting step: 33 / 37\n",
      "Starting step: 34 / 37\n",
      "Starting step: 35 / 37\n",
      "Starting step: 36 / 37\n"
     ]
    }
   ],
   "source": [
    "# Run convolutional networks through coronal sections. \n",
    "step_counter = 0\n",
    "\n",
    "for coronal_section in coronal_sections:\n",
    "    # Information. \n",
    "    print('Starting step:', step_counter, '/', str(len(coronal_sections)))\n",
    "    \n",
    "    # Define the shape of the input image. \n",
    "    input_image_shape = (X_convnet.shape[1], X_convnet.shape[3], 1)\n",
    "    \n",
    "    # Define the convolutional network. \n",
    "    model_convnet = define_convnet(input_image_shape)\n",
    "\n",
    "    # Fit model. \n",
    "    history_convnet = model_convnet.fit(\n",
    "        x = X_convnet[:, :, coronal_section, :, np.newaxis], \n",
    "        y = y_encoded,\n",
    "        validation_split = validation_split, batch_size = batch_size, epochs = 100, shuffle = True, callbacks = [early_stopping], verbose = 0)\n",
    "    \n",
    "    # Evaluate test score and predict targets for the test set. \n",
    "    (test_loss_convnet, test_accuracy_convnet) = model_convnet.evaluate(X_convnet_te[:, :, coronal_section, :, np.newaxis], \n",
    "                                                                        y_te_encoded, batch_size = batch_size, verbose = 0)\n",
    "    test_predictions = model_convnet.predict(X_convnet_te[:, :, coronal_section, :, np.newaxis], verbose = 0)\n",
    "    \n",
    "    # Save the results. \n",
    "    convnet_results_coronal.loc[coronal_section, 'test_loss_convnet'] = test_loss_convnet\n",
    "    convnet_results_coronal.loc[coronal_section, 'test_accuracy_convnet'] = test_accuracy_convnet\n",
    "    convnet_predictions_coronal[step_counter, :, :] = test_predictions\n",
    "    \n",
    "    # Save the number of non-zero values in this section. \n",
    "    convnet_non_zeros_coronal[step_counter] = np.sum(np.sum(X_convnet_te[:, :, coronal_section, :], axis = 0) != 0)\n",
    "    \n",
    "    # Increment the section counter. \n",
    "    step_counter += 1"
   ]
  },
  {
   "cell_type": "code",
   "execution_count": 38,
   "metadata": {},
   "outputs": [
    {
     "data": {
      "image/png": "[encoded data removed]",
      "text/plain": [
       "<Figure size 864x360 with 2 Axes>"
      ]
     },
     "metadata": {
      "needs_background": "light"
     },
     "output_type": "display_data"
    }
   ],
   "source": [
    "# Display the results as a graph. \n",
    "convolutional_neural_network_graph('coronal')"
   ]
  },
  {
   "cell_type": "markdown",
   "metadata": {},
   "source": [
    "### 5.3 Convolutional neural networks through axial view"
   ]
  },
  {
   "cell_type": "code",
   "execution_count": 39,
   "metadata": {},
   "outputs": [
    {
     "name": "stdout",
     "output_type": "stream",
     "text": [
      "Starting step: 0 / 31\n",
      "Starting step: 1 / 31\n",
      "Starting step: 2 / 31\n",
      "Starting step: 3 / 31\n",
      "Starting step: 4 / 31\n",
      "Starting step: 5 / 31\n",
      "Starting step: 6 / 31\n",
      "Starting step: 7 / 31\n",
      "Starting step: 8 / 31\n",
      "Starting step: 9 / 31\n",
      "Starting step: 10 / 31\n",
      "Starting step: 11 / 31\n",
      "Starting step: 12 / 31\n",
      "Starting step: 13 / 31\n",
      "Starting step: 14 / 31\n",
      "Starting step: 15 / 31\n",
      "Starting step: 16 / 31\n",
      "Starting step: 17 / 31\n",
      "Starting step: 18 / 31\n",
      "Starting step: 19 / 31\n",
      "Starting step: 20 / 31\n",
      "Starting step: 21 / 31\n",
      "Starting step: 22 / 31\n",
      "Starting step: 23 / 31\n",
      "Starting step: 24 / 31\n",
      "Starting step: 25 / 31\n",
      "Starting step: 26 / 31\n",
      "Starting step: 27 / 31\n",
      "Starting step: 28 / 31\n",
      "Starting step: 29 / 31\n",
      "Starting step: 30 / 31\n"
     ]
    }
   ],
   "source": [
    "# Run convolutional networks through axial sections. \n",
    "step_counter = 0\n",
    "\n",
    "for axial_section in axial_sections:\n",
    "    # Information. \n",
    "    print('Starting step:', step_counter, '/', str(len(axial_sections)))\n",
    "    \n",
    "    # Define the shape of the input image. \n",
    "    input_image_shape = (X_convnet.shape[1], X_convnet.shape[2], 1)\n",
    "    \n",
    "    # Define the convolutional network. \n",
    "    model_convnet = define_convnet(input_image_shape)\n",
    "\n",
    "    # Fit model. \n",
    "    history_convnet = model_convnet.fit(\n",
    "        x = X_convnet[:, :, :, axial_section, np.newaxis], \n",
    "        y = y_encoded,\n",
    "        validation_split = validation_split, batch_size = batch_size, epochs = 100, shuffle = True, callbacks = [early_stopping], verbose = 0)\n",
    "    \n",
    "    # Evaluate test score and predict targets for the test set. \n",
    "    (test_loss_convnet, test_accuracy_convnet) = model_convnet.evaluate(X_convnet_te[:, :, :, axial_section, np.newaxis], \n",
    "                                                                        y_te_encoded, batch_size = batch_size, verbose = 0)\n",
    "    test_predictions = model_convnet.predict(X_convnet_te[:, :, :, axial_section, np.newaxis], verbose = 0)\n",
    "    \n",
    "    # Save the results. \n",
    "    convnet_results_axial.loc[axial_section, 'test_loss_convnet'] = test_loss_convnet\n",
    "    convnet_results_axial.loc[axial_section, 'test_accuracy_convnet'] = test_accuracy_convnet\n",
    "    convnet_predictions_axial[step_counter, :, :] = test_predictions\n",
    "    \n",
    "    # Save the number of non-zero values in this section. \n",
    "    convnet_non_zeros_axial[step_counter] = np.sum(np.sum(X_convnet_te[:, :, :, axial_section], axis = 0) != 0)\n",
    "    \n",
    "    # Increment the section counter. \n",
    "    step_counter += 1"
   ]
  },
  {
   "cell_type": "code",
   "execution_count": 40,
   "metadata": {},
   "outputs": [
    {
     "data": {
      "image/png": "[encoded data removed]",
      "text/plain": [
       "<Figure size 864x360 with 2 Axes>"
      ]
     },
     "metadata": {
      "needs_background": "light"
     },
     "output_type": "display_data"
    }
   ],
   "source": [
    "# Display the results as a graph. \n",
    "convolutional_neural_network_graph('axial')"
   ]
  },
  {
   "cell_type": "markdown",
   "metadata": {},
   "source": [
    "### 5.4 Predictions and confusion matrix"
   ]
  },
  {
   "cell_type": "code",
   "execution_count": 41,
   "metadata": {},
   "outputs": [
    {
     "data": {
      "text/plain": [
       "array(['good', 'good', 'good', 'good', 'bad', 'bad', 'good', 'good',\n",
       "       'good', 'good', 'good', 'good', 'good', 'good', 'neutral',\n",
       "       'neutral', 'bad', 'bad', 'good', 'good', 'good', 'good', 'bad',\n",
       "       'bad', 'good', 'good', 'good', 'good', 'bad', 'bad', 'good',\n",
       "       'good', 'good', 'good', 'bad', 'good'], dtype='<U7')"
      ]
     },
     "execution_count": 41,
     "metadata": {},
     "output_type": "execute_result"
    }
   ],
   "source": [
    "# Compute and display the predictions from the sagittal view, by averaging the predictions of all sagittal sections. \n",
    "y_pred_sagittal = encoding_order[np.argmax(np.sum(convnet_predictions_sagittal, axis = 0), axis = 1)]\n",
    "y_pred_sagittal"
   ]
  },
  {
   "cell_type": "code",
   "execution_count": 42,
   "metadata": {},
   "outputs": [
    {
     "data": {
      "text/plain": [
       "0.6388888888888888"
      ]
     },
     "execution_count": 42,
     "metadata": {},
     "output_type": "execute_result"
    }
   ],
   "source": [
    "# Compute and display the test score for the sagittal view. \n",
    "test_score_sagittal = np.sum(y_pred_sagittal == y_te) / len(y_te)\n",
    "test_score_sagittal"
   ]
  },
  {
   "cell_type": "code",
   "execution_count": 43,
   "metadata": {},
   "outputs": [
    {
     "data": {
      "text/plain": [
       "array(['good', 'good', 'good', 'good', 'bad', 'bad', 'neutral', 'good',\n",
       "       'neutral', 'neutral', 'bad', 'bad', 'good', 'good', 'neutral',\n",
       "       'neutral', 'bad', 'bad', 'good', 'good', 'neutral', 'neutral',\n",
       "       'bad', 'bad', 'good', 'bad', 'bad', 'bad', 'bad', 'bad', 'good',\n",
       "       'good', 'neutral', 'neutral', 'bad', 'good'], dtype='<U7')"
      ]
     },
     "execution_count": 43,
     "metadata": {},
     "output_type": "execute_result"
    }
   ],
   "source": [
    "# Compute and display the predictions from the coronal view, by averaging the predictions of all coronal sections. \n",
    "y_pred_coronal = encoding_order[np.argmax(np.sum(convnet_predictions_coronal, axis = 0), axis = 1)]\n",
    "y_pred_coronal"
   ]
  },
  {
   "cell_type": "code",
   "execution_count": 44,
   "metadata": {},
   "outputs": [
    {
     "data": {
      "text/plain": [
       "0.8055555555555556"
      ]
     },
     "execution_count": 44,
     "metadata": {},
     "output_type": "execute_result"
    }
   ],
   "source": [
    "# Compute and display the test score for the coronal view. \n",
    "test_score_coronal = np.sum(y_pred_coronal == y_te) / len(y_te)\n",
    "test_score_coronal"
   ]
  },
  {
   "cell_type": "code",
   "execution_count": 45,
   "metadata": {},
   "outputs": [
    {
     "data": {
      "text/plain": [
       "array(['good', 'good', 'good', 'good', 'bad', 'bad', 'good', 'good',\n",
       "       'neutral', 'neutral', 'good', 'good', 'neutral', 'good', 'neutral',\n",
       "       'neutral', 'bad', 'bad', 'good', 'good', 'neutral', 'neutral',\n",
       "       'bad', 'bad', 'good', 'bad', 'good', 'good', 'bad', 'bad', 'good',\n",
       "       'good', 'neutral', 'neutral', 'bad', 'bad'], dtype='<U7')"
      ]
     },
     "execution_count": 45,
     "metadata": {},
     "output_type": "execute_result"
    }
   ],
   "source": [
    "# Compute and display the predictions from the axial view, by averaging the predictions of all axial sections. \n",
    "y_pred_axial = encoding_order[np.argmax(np.sum(convnet_predictions_axial, axis = 0), axis = 1)]\n",
    "y_pred_axial"
   ]
  },
  {
   "cell_type": "code",
   "execution_count": 46,
   "metadata": {},
   "outputs": [
    {
     "data": {
      "text/plain": [
       "0.7777777777777778"
      ]
     },
     "execution_count": 46,
     "metadata": {},
     "output_type": "execute_result"
    }
   ],
   "source": [
    "# Compute and display the test score for the axial view. \n",
    "test_score_axial = np.sum(y_pred_axial == y_te) / len(y_te)\n",
    "test_score_axial"
   ]
  },
  {
   "cell_type": "code",
   "execution_count": 47,
   "metadata": {},
   "outputs": [
    {
     "data": {
      "text/plain": [
       "array(['good', 'good', 'good', 'good', 'bad', 'bad', 'good', 'good',\n",
       "       'neutral', 'neutral', 'good', 'good', 'good', 'good', 'neutral',\n",
       "       'neutral', 'bad', 'bad', 'good', 'good', 'good', 'neutral', 'bad',\n",
       "       'bad', 'good', 'bad', 'good', 'good', 'bad', 'bad', 'good', 'good',\n",
       "       'good', 'good', 'bad', 'good'], dtype='<U7')"
      ]
     },
     "execution_count": 47,
     "metadata": {},
     "output_type": "execute_result"
    }
   ],
   "source": [
    "# Sum up the predictions of all neurological views. \n",
    "convnet_predictions_all_views = np.sum(convnet_predictions_sagittal, axis = 0) + np.sum(convnet_predictions_coronal, axis = 0) + np.sum(convnet_predictions_axial, axis = 0)\n",
    "\n",
    "# Compute and display the predictions from all neurological views. \n",
    "y_pred_convnet = encoding_order[np.argmax(convnet_predictions_all_views, axis = 1)]\n",
    "y_pred_convnet"
   ]
  },
  {
   "cell_type": "code",
   "execution_count": 48,
   "metadata": {},
   "outputs": [
    {
     "data": {
      "text/plain": [
       "0.6944444444444444"
      ]
     },
     "execution_count": 48,
     "metadata": {},
     "output_type": "execute_result"
    }
   ],
   "source": [
    "# Compute and display the test score for the convolutional neural network.  \n",
    "test_score_convnet = np.sum(y_pred_convnet == y_te) / len(y_te)\n",
    "test_score_convnet"
   ]
  },
  {
   "cell_type": "code",
   "execution_count": 49,
   "metadata": {},
   "outputs": [
    {
     "data": {
      "text/html": [
       "<div>\n",
       "<style scoped>\n",
       "    .dataframe tbody tr th:only-of-type {\n",
       "        vertical-align: middle;\n",
       "    }\n",
       "\n",
       "    .dataframe tbody tr th {\n",
       "        vertical-align: top;\n",
       "    }\n",
       "\n",
       "    .dataframe thead th {\n",
       "        text-align: right;\n",
       "    }\n",
       "</style>\n",
       "<table border=\"1\" class=\"dataframe\">\n",
       "  <thead>\n",
       "    <tr style=\"text-align: right;\">\n",
       "      <th>Predictions</th>\n",
       "      <th>good</th>\n",
       "      <th>neutral</th>\n",
       "      <th>bad</th>\n",
       "    </tr>\n",
       "    <tr>\n",
       "      <th>True class</th>\n",
       "      <th></th>\n",
       "      <th></th>\n",
       "      <th></th>\n",
       "    </tr>\n",
       "  </thead>\n",
       "  <tbody>\n",
       "    <tr>\n",
       "      <th>good</th>\n",
       "      <td>11</td>\n",
       "      <td>0</td>\n",
       "      <td>1</td>\n",
       "    </tr>\n",
       "    <tr>\n",
       "      <th>neutral</th>\n",
       "      <td>7</td>\n",
       "      <td>5</td>\n",
       "      <td>0</td>\n",
       "    </tr>\n",
       "    <tr>\n",
       "      <th>bad</th>\n",
       "      <td>3</td>\n",
       "      <td>0</td>\n",
       "      <td>9</td>\n",
       "    </tr>\n",
       "  </tbody>\n",
       "</table>\n",
       "</div>"
      ],
      "text/plain": [
       "Predictions  good  neutral  bad\n",
       "True class                     \n",
       "good           11        0    1\n",
       "neutral         7        5    0\n",
       "bad             3        0    9"
      ]
     },
     "execution_count": 49,
     "metadata": {},
     "output_type": "execute_result"
    }
   ],
   "source": [
    "# Display a Scikit-learn confusion matrix. \n",
    "confusion_matrix_convnet = scikit_learn_confusion_matrix(y_te, y_pred_convnet)\n",
    "confusion_matrix_convnet"
   ]
  },
  {
   "cell_type": "markdown",
   "metadata": {},
   "source": [
    "**Result:** The convolutional neural network models perform better than the baseline of 33% for each neurological view: sagittal, coronal and axial. When we sum up the predictions in order to obtain a global test score, this test score is also higher than the baseline of 33%. As expected, for the peripheral sections where there is little or no information, the convolutional networks perform at the level of chance. "
   ]
  },
  {
   "cell_type": "markdown",
   "metadata": {},
   "source": [
    "## **6. Save results**"
   ]
  },
  {
   "cell_type": "code",
   "execution_count": 50,
   "metadata": {},
   "outputs": [],
   "source": [
    "# Save the results into a .npz file. \n",
    "if rescale_mode == 1:\n",
    "    results_file_name = 'neural_networks_results.npz'\n",
    "else:\n",
    "    results_file_name = 'neural_networks_results_r' + str(rescale_mode) + '.npz'\n",
    "\n",
    "np.savez(results_path + results_file_name, \n",
    "         # Test scores. \n",
    "         test_score_dense1 = test_score_dense1, \n",
    "         test_score_dense2 = test_score_dense2, \n",
    "         test_score_convnet = test_score_convnet, \n",
    "         \n",
    "         # Predictions. \n",
    "         y_pred_dense1 = y_pred_dense1, \n",
    "         y_pred_dense2 = y_pred_dense2, \n",
    "         y_pred_convnet = y_pred_convnet)"
   ]
  },
  {
   "cell_type": "code",
   "execution_count": null,
   "metadata": {},
   "outputs": [],
   "source": []
  }
 ],
 "metadata": {
  "kernelspec": {
   "display_name": "Python 3",
   "language": "python",
   "name": "python3"
  },
  "language_info": {
   "codemirror_mode": {
    "name": "ipython",
    "version": 3
   },
   "file_extension": ".py",
   "mimetype": "text/x-python",
   "name": "python",
   "nbconvert_exporter": "python",
   "pygments_lexer": "ipython3",
   "version": "3.6.11"
  }
 },
 "nbformat": 4,
 "nbformat_minor": 4
}
