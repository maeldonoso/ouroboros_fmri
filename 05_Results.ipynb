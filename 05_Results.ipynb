{
 "cells": [
  {
   "cell_type": "markdown",
   "metadata": {},
   "source": [
    "# **Ouroboros fMRI: Predicting human brain activity with machine learning models**\n",
    "\n",
    "#### Version: 10th March 2021\n",
    "\n",
    "==============================================================================================\n",
    "\n",
    "Project developed by Maël Donoso, Ph.D. in Cognitive and Computational Neuroscience. Affiliations: Ouroboros Neurotechnologies (https://ouroboros-neurotechnologies.com/), Institut Lémanique du Cerveau (https://institut-cerveau.ch/), Policlinique Ostéopathique de Lausanne (https://policlinique-osteopathique-lausanne.ch/). \n",
    "\n",
    "The first version of this project (17th February 2021) was presented as a Capstone Project for the COS in Applied Data Science: Machine Learning of the EPFL Extension School (https://www.extensionschool.ch/)."
   ]
  },
  {
   "cell_type": "markdown",
   "metadata": {},
   "source": [
    "==============================================================================================\n",
    "\n",
    "This project is presented through six Notebooks:\n",
    "\n",
    "*01: Data Analysis*\n",
    "\n",
    "*02: Classification* (all classification models except neural networks)\n",
    "\n",
    "*03: Neural Networks*\n",
    "\n",
    "*04: Regression*\n",
    "\n",
    "***05: Results***\n",
    "\n",
    "*06: Complements*\n",
    "\n",
    "=============================================================================================="
   ]
  },
  {
   "cell_type": "markdown",
   "metadata": {},
   "source": [
    "### Notebook 05\n",
    "\n",
    "# **Results**"
   ]
  },
  {
   "cell_type": "markdown",
   "metadata": {},
   "source": [
    "## **1. Functions**\n",
    "\n",
    "In the following cells, we define functions to **load the results** obtained in the previous Notebooks. "
   ]
  },
  {
   "cell_type": "code",
   "execution_count": 1,
   "metadata": {},
   "outputs": [],
   "source": [
    "import os\n",
    "import numpy as np\n",
    "import pandas as pd\n",
    "import matplotlib.pyplot as plt\n",
    "%matplotlib inline\n",
    "from sklearn.metrics import confusion_matrix"
   ]
  },
  {
   "cell_type": "code",
   "execution_count": 2,
   "metadata": {},
   "outputs": [],
   "source": [
    "# Define the results path. If empty, the results will be loaded from the current directory. \n",
    "results_path = ''"
   ]
  },
  {
   "cell_type": "code",
   "execution_count": 3,
   "metadata": {},
   "outputs": [],
   "source": [
    "# Define a function to load the classification results from a specific rescale mode. \n",
    "def load_classification_results(rescale_mode):\n",
    "    \n",
    "    # Load classification results. \n",
    "    with np.load(results_path + 'classification_results' + rescale_mode + '.npz', allow_pickle = False) as npz_file:\n",
    "        data_dict = dict(npz_file.items())\n",
    "        \n",
    "    # Define variables as global. \n",
    "    global test_score_knn, test_score_dt, test_score_rf, test_score_svm, test_score_logreg\n",
    "    global y_pred_knn, y_pred_dt, y_pred_rf, y_pred_svm, y_pred_logreg\n",
    "    global y_te\n",
    "\n",
    "    # Test scores. \n",
    "    test_score_knn =    data_dict['test_score_knn']\n",
    "    test_score_dt =     data_dict['test_score_dt']\n",
    "    test_score_rf =     data_dict['test_score_rf']\n",
    "    test_score_svm =    data_dict['test_score_svm']\n",
    "    test_score_logreg = data_dict['test_score_logreg']\n",
    "\n",
    "    # Predictions. \n",
    "    y_pred_knn =    data_dict['y_pred_knn']\n",
    "    y_pred_dt =     data_dict['y_pred_dt']\n",
    "    y_pred_rf =     data_dict['y_pred_rf']\n",
    "    y_pred_svm =    data_dict['y_pred_svm']\n",
    "    y_pred_logreg = data_dict['y_pred_logreg']\n",
    "\n",
    "    # Target. \n",
    "    y_te = data_dict['y_te']"
   ]
  },
  {
   "cell_type": "code",
   "execution_count": 4,
   "metadata": {},
   "outputs": [],
   "source": [
    "# Define a function to load the neural networks results from a specific rescale mode. \n",
    "def load_neural_networks_results(rescale_mode):\n",
    "    \n",
    "    # Load neural networks results. \n",
    "    with np.load(results_path + 'neural_networks_results' + rescale_mode + '.npz', allow_pickle = False) as npz_file:\n",
    "        data_dict = dict(npz_file.items())\n",
    "        \n",
    "    # Define variables as global. \n",
    "    global test_score_dense1, test_score_dense2, test_score_convnet\n",
    "    global y_pred_dense1, y_pred_dense2, y_pred_convnet\n",
    "\n",
    "    # Test scores. \n",
    "    test_score_dense1 =  data_dict['test_score_dense1']\n",
    "    test_score_dense2 =  data_dict['test_score_dense2']\n",
    "    test_score_convnet = data_dict['test_score_convnet']\n",
    "\n",
    "    # Predictions. \n",
    "    y_pred_dense1 =  data_dict['y_pred_dense1']\n",
    "    y_pred_dense2 =  data_dict['y_pred_dense2']\n",
    "    y_pred_convnet = data_dict['y_pred_convnet']"
   ]
  },
  {
   "cell_type": "code",
   "execution_count": 5,
   "metadata": {},
   "outputs": [],
   "source": [
    "# Define a function to load the regression results from a specific rescale mode. \n",
    "def load_regression_results(rescale_mode):\n",
    "    \n",
    "    # Load regression results. \n",
    "    with np.load(results_path + 'regression_results' + rescale_mode + '.npz', allow_pickle = False) as npz_file:\n",
    "        data_dict = dict(npz_file.items())\n",
    "        \n",
    "    # Define variables as global. \n",
    "    global mse_baseline, mse_lr, mse_huber, mse_ridge, mse_lr_categ, mse_huber_categ, mse_ridge_categ\n",
    "    global mae_baseline, mae_lr, mae_huber, mae_ridge, mae_lr_categ, mae_huber_categ, mae_ridge_categ\n",
    "    global rss_baseline, rss_lr, rss_huber, rss_ridge, rss_lr_categ, rss_huber_categ, rss_ridge_categ\n",
    "    global r2_baseline, r2_lr, r2_huber, r2_ridge, r2_lr_categ, r2_huber_categ, r2_ridge_categ\n",
    "    global y_pred_lr, y_pred_huber, y_pred_ridge, y_pred_lr_categ, y_pred_huber_categ, y_pred_ridge_categ\n",
    "\n",
    "    # Test scores: MSE. \n",
    "    mse_baseline =    data_dict['mse_baseline']\n",
    "    mse_lr =          data_dict['mse_lr']\n",
    "    mse_huber =       data_dict['mse_huber']\n",
    "    mse_ridge =       data_dict['mse_ridge']\n",
    "    mse_lr_categ =    data_dict['mse_lr_categ']\n",
    "    mse_huber_categ = data_dict['mse_huber_categ']\n",
    "    mse_ridge_categ = data_dict['mse_ridge_categ']\n",
    "\n",
    "    # Test scores: MAE. \n",
    "    mae_baseline =    data_dict['mae_baseline']\n",
    "    mae_lr =          data_dict['mae_lr']\n",
    "    mae_huber =       data_dict['mae_huber']\n",
    "    mae_ridge =       data_dict['mae_ridge']\n",
    "    mae_lr_categ =    data_dict['mae_lr_categ']\n",
    "    mae_huber_categ = data_dict['mae_huber_categ']\n",
    "    mae_ridge_categ = data_dict['mae_ridge_categ']\n",
    "\n",
    "    # Test scores: RSS. \n",
    "    rss_baseline =    data_dict['rss_baseline']\n",
    "    rss_lr =          data_dict['rss_lr']\n",
    "    rss_huber =       data_dict['rss_huber']\n",
    "    rss_ridge =       data_dict['rss_ridge']\n",
    "    rss_lr_categ =    data_dict['rss_lr_categ']\n",
    "    rss_huber_categ = data_dict['rss_huber_categ']\n",
    "    rss_ridge_categ = data_dict['rss_ridge_categ']\n",
    "\n",
    "    # Model comparison: R^2. \n",
    "    r2_baseline =    0\n",
    "    r2_lr =          data_dict['r2_lr']\n",
    "    r2_huber =       data_dict['r2_huber']\n",
    "    r2_ridge =       data_dict['r2_ridge']\n",
    "    r2_lr_categ =    data_dict['r2_lr_categ']\n",
    "    r2_huber_categ = data_dict['r2_huber_categ']\n",
    "    r2_ridge_categ = data_dict['r2_ridge_categ']\n",
    "\n",
    "    # Predictions. \n",
    "    y_pred_lr =          data_dict['y_pred_lr']\n",
    "    y_pred_huber =       data_dict['y_pred_huber']\n",
    "    y_pred_ridge =       data_dict['y_pred_ridge']\n",
    "    y_pred_lr_categ =    data_dict['y_pred_lr_categ']\n",
    "    y_pred_huber_categ = data_dict['y_pred_huber_categ']\n",
    "    y_pred_ridge_categ = data_dict['y_pred_ridge_categ']"
   ]
  },
  {
   "cell_type": "markdown",
   "metadata": {},
   "source": [
    "## **2. Classification results**\n",
    "\n",
    "### 2.1 Model accuracy comparison\n",
    "\n",
    "In the following cells, we **compare the accuracy of the classification models**, using the dataset with the original voxel size. "
   ]
  },
  {
   "cell_type": "code",
   "execution_count": 6,
   "metadata": {},
   "outputs": [
    {
     "data": {
      "text/plain": [
       "baseline    33.33\n",
       "knn         44.44\n",
       "dt          55.56\n",
       "rf          66.67\n",
       "svm         66.67\n",
       "logreg      80.56\n",
       "dense1      69.44\n",
       "dense2      66.67\n",
       "convnet     69.44\n",
       "dtype: float64"
      ]
     },
     "execution_count": 6,
     "metadata": {},
     "output_type": "execute_result"
    }
   ],
   "source": [
    "# Load the classification results. \n",
    "load_classification_results('')\n",
    "load_neural_networks_results('')\n",
    "\n",
    "# Convert the results into a Series. \n",
    "classification_results = pd.Series()\n",
    "classification_results['baseline'] = 33.33\n",
    "for classification_model in ['knn', 'dt', 'rf', 'svm', 'logreg', 'dense1', 'dense2', 'convnet']:\n",
    "    classification_results[classification_model] = np.round(100 * eval('test_score_' + classification_model), 2)\n",
    "    \n",
    "# Display the Series. \n",
    "classification_results"
   ]
  },
  {
   "cell_type": "code",
   "execution_count": 7,
   "metadata": {},
   "outputs": [
    {
     "data": {
      "image/png": "[encoded data removed]",
      "text/plain": [
       "<Figure size 1008x576 with 1 Axes>"
      ]
     },
     "metadata": {
      "needs_background": "light"
     },
     "output_type": "display_data"
    }
   ],
   "source": [
    "# Display the results in a graph. \n",
    "fig, axes = plt.subplots(nrows = 1, ncols = 1, figsize = (14, 8))\n",
    "axes.bar(classification_results.index, classification_results.values, width = 0.8)\n",
    "axes.set_ylabel('Accuracy (percentage)')\n",
    "axes.set_title('Classification models')\n",
    "\n",
    "# Point the best model on the graph. \n",
    "axes.scatter(classification_results.idxmax(), classification_results.max() / 2, marker = 'x', c = 'cyan', zorder = 10);"
   ]
  },
  {
   "cell_type": "markdown",
   "metadata": {},
   "source": [
    "**Result: All the classification models perform better than the baseline**. The model with the highest accuracy is the **logistic regression model**. We should remember that the accuracy of the convolutional neural network model is not a straightforward measure, but the combination of the predictions of multiple convolutional networks accross the three neurological views. "
   ]
  },
  {
   "cell_type": "markdown",
   "metadata": {},
   "source": [
    "### 2.2 Rescaling mode comparison\n",
    "\n",
    "In the following cells, we compare again the accuracy of the classification models, but this time we display the results for **all the possible rescaling modes**: original voxel size, and voxel size rescaled by a factor 2, 3 or 4. "
   ]
  },
  {
   "cell_type": "code",
   "execution_count": 8,
   "metadata": {},
   "outputs": [
    {
     "data": {
      "text/html": [
       "<div>\n",
       "<style scoped>\n",
       "    .dataframe tbody tr th:only-of-type {\n",
       "        vertical-align: middle;\n",
       "    }\n",
       "\n",
       "    .dataframe tbody tr th {\n",
       "        vertical-align: top;\n",
       "    }\n",
       "\n",
       "    .dataframe thead th {\n",
       "        text-align: right;\n",
       "    }\n",
       "</style>\n",
       "<table border=\"1\" class=\"dataframe\">\n",
       "  <thead>\n",
       "    <tr style=\"text-align: right;\">\n",
       "      <th></th>\n",
       "      <th>Original size</th>\n",
       "      <th>Factor 2</th>\n",
       "      <th>Factor 3</th>\n",
       "      <th>Factor 4</th>\n",
       "    </tr>\n",
       "  </thead>\n",
       "  <tbody>\n",
       "    <tr>\n",
       "      <th>baseline</th>\n",
       "      <td>33.33</td>\n",
       "      <td>33.33</td>\n",
       "      <td>33.33</td>\n",
       "      <td>33.33</td>\n",
       "    </tr>\n",
       "    <tr>\n",
       "      <th>knn</th>\n",
       "      <td>44.44</td>\n",
       "      <td>44.44</td>\n",
       "      <td>58.33</td>\n",
       "      <td>41.67</td>\n",
       "    </tr>\n",
       "    <tr>\n",
       "      <th>dt</th>\n",
       "      <td>55.56</td>\n",
       "      <td>47.22</td>\n",
       "      <td>47.22</td>\n",
       "      <td>50.00</td>\n",
       "    </tr>\n",
       "    <tr>\n",
       "      <th>rf</th>\n",
       "      <td>66.67</td>\n",
       "      <td>47.22</td>\n",
       "      <td>66.67</td>\n",
       "      <td>47.22</td>\n",
       "    </tr>\n",
       "    <tr>\n",
       "      <th>svm</th>\n",
       "      <td>66.67</td>\n",
       "      <td>66.67</td>\n",
       "      <td>80.56</td>\n",
       "      <td>75.00</td>\n",
       "    </tr>\n",
       "    <tr>\n",
       "      <th>logreg</th>\n",
       "      <td>80.56</td>\n",
       "      <td>77.78</td>\n",
       "      <td>83.33</td>\n",
       "      <td>58.33</td>\n",
       "    </tr>\n",
       "    <tr>\n",
       "      <th>dense1</th>\n",
       "      <td>69.44</td>\n",
       "      <td>66.67</td>\n",
       "      <td>86.11</td>\n",
       "      <td>61.11</td>\n",
       "    </tr>\n",
       "    <tr>\n",
       "      <th>dense2</th>\n",
       "      <td>66.67</td>\n",
       "      <td>69.44</td>\n",
       "      <td>55.56</td>\n",
       "      <td>50.00</td>\n",
       "    </tr>\n",
       "    <tr>\n",
       "      <th>convnet</th>\n",
       "      <td>69.44</td>\n",
       "      <td>75.00</td>\n",
       "      <td>77.78</td>\n",
       "      <td>77.78</td>\n",
       "    </tr>\n",
       "  </tbody>\n",
       "</table>\n",
       "</div>"
      ],
      "text/plain": [
       "          Original size  Factor 2  Factor 3  Factor 4\n",
       "baseline          33.33     33.33     33.33     33.33\n",
       "knn               44.44     44.44     58.33     41.67\n",
       "dt                55.56     47.22     47.22     50.00\n",
       "rf                66.67     47.22     66.67     47.22\n",
       "svm               66.67     66.67     80.56     75.00\n",
       "logreg            80.56     77.78     83.33     58.33\n",
       "dense1            69.44     66.67     86.11     61.11\n",
       "dense2            66.67     69.44     55.56     50.00\n",
       "convnet           69.44     75.00     77.78     77.78"
      ]
     },
     "execution_count": 8,
     "metadata": {},
     "output_type": "execute_result"
    }
   ],
   "source": [
    "# Define a DataFrame to save the results. \n",
    "all_classification_results = pd.DataFrame()\n",
    "\n",
    "# Loop over all the rescale modes. \n",
    "for rescale_mode in ['', '_r2', '_r3', '_r4']:\n",
    "    \n",
    "    # Load the classification results. \n",
    "    load_classification_results(rescale_mode)\n",
    "    load_neural_networks_results(rescale_mode)\n",
    "\n",
    "    # Load the results into the DataFrame. \n",
    "    all_classification_results.loc['baseline', rescale_mode] = 33.33\n",
    "    for classification_model in ['knn', 'dt', 'rf', 'svm', 'logreg', 'dense1', 'dense2', 'convnet']:\n",
    "        all_classification_results.loc[classification_model, rescale_mode] = np.round(100 * eval('test_score_' + classification_model), 2)\n",
    "\n",
    "# Rename the columns and display the DataFrame. \n",
    "all_classification_results.columns = ['Original size', 'Factor 2', 'Factor 3', 'Factor 4']\n",
    "all_classification_results"
   ]
  },
  {
   "cell_type": "code",
   "execution_count": 9,
   "metadata": {},
   "outputs": [
    {
     "data": {
      "image/png": "[encoded data removed]",
      "text/plain": [
       "<Figure size 1008x576 with 1 Axes>"
      ]
     },
     "metadata": {
      "needs_background": "light"
     },
     "output_type": "display_data"
    }
   ],
   "source": [
    "# Display the results in a graph. \n",
    "fig, axes = plt.subplots(nrows = 1, ncols = 1, figsize = (14, 8))\n",
    "x_coord = np.array(range(0, 9))\n",
    "\n",
    "for rescale_mode in ['Original size', 'Factor 2', 'Factor 3', 'Factor 4']:\n",
    "    axes.bar(x_coord, all_classification_results[rescale_mode].values, width = 0.2, label = rescale_mode)\n",
    "    x_coord = x_coord + 0.2\n",
    "\n",
    "# Add labels and title. \n",
    "axes.set_xticks(np.array(range(0, 9)) + 0.4)\n",
    "axes.set_xticklabels(['baseline', 'knn', 'dt', 'rf', 'svm', 'logreg', 'dense1', 'dense2', 'convnet'])\n",
    "axes.set_ylabel('Accuracy (percentage)')\n",
    "axes.legend()\n",
    "axes.set_title('Classification models');"
   ]
  },
  {
   "cell_type": "markdown",
   "metadata": {},
   "source": [
    "**Result: All the classification models, for all the rescaling modes, perform better than the baseline**. The dataset with the original voxel size does not always give the best results. This is interesting to know, since the computations are much heavier with the original voxel size than with the rescaled voxel sizes. Overall, it is difficult to see a general tendency in favor of more or less rescaling. If this type of work had to be replicated with an entirely different neuroimaging dataset, it may be interesting to also systematically explore the results across several rescaling modes, since the right rescaling factor might depend on the dataset. For example, experimental conditions that recruit large brain networks might be easier to process with voxel size rescaling, whereas the original voxel size should maybe be kept for experimental conditions that recruit small, specific brain regions. "
   ]
  },
  {
   "cell_type": "markdown",
   "metadata": {},
   "source": [
    "### 2.3 Predictions comparison\n",
    "\n",
    "In the following cells, we **compare the predictions** of the different classification models with the original voxel size. In particular, we verify how many different labels were predicted by the models for each statistical map.  "
   ]
  },
  {
   "cell_type": "code",
   "execution_count": 10,
   "metadata": {},
   "outputs": [
    {
     "data": {
      "text/html": [
       "<div>\n",
       "<style scoped>\n",
       "    .dataframe tbody tr th:only-of-type {\n",
       "        vertical-align: middle;\n",
       "    }\n",
       "\n",
       "    .dataframe tbody tr th {\n",
       "        vertical-align: top;\n",
       "    }\n",
       "\n",
       "    .dataframe thead th {\n",
       "        text-align: right;\n",
       "    }\n",
       "</style>\n",
       "<table border=\"1\" class=\"dataframe\">\n",
       "  <thead>\n",
       "    <tr style=\"text-align: right;\">\n",
       "      <th></th>\n",
       "      <th>true value</th>\n",
       "      <th>knn</th>\n",
       "      <th>dt</th>\n",
       "      <th>rf</th>\n",
       "      <th>svm</th>\n",
       "      <th>logreg</th>\n",
       "      <th>dense1</th>\n",
       "      <th>dense2</th>\n",
       "      <th>convnet</th>\n",
       "    </tr>\n",
       "  </thead>\n",
       "  <tbody>\n",
       "    <tr>\n",
       "      <th>0</th>\n",
       "      <td>good</td>\n",
       "      <td>bad</td>\n",
       "      <td>good</td>\n",
       "      <td>bad</td>\n",
       "      <td>good</td>\n",
       "      <td>good</td>\n",
       "      <td>bad</td>\n",
       "      <td>good</td>\n",
       "      <td>good</td>\n",
       "    </tr>\n",
       "    <tr>\n",
       "      <th>1</th>\n",
       "      <td>good</td>\n",
       "      <td>bad</td>\n",
       "      <td>bad</td>\n",
       "      <td>bad</td>\n",
       "      <td>good</td>\n",
       "      <td>good</td>\n",
       "      <td>bad</td>\n",
       "      <td>good</td>\n",
       "      <td>good</td>\n",
       "    </tr>\n",
       "    <tr>\n",
       "      <th>2</th>\n",
       "      <td>neutral</td>\n",
       "      <td>neutral</td>\n",
       "      <td>neutral</td>\n",
       "      <td>neutral</td>\n",
       "      <td>neutral</td>\n",
       "      <td>neutral</td>\n",
       "      <td>neutral</td>\n",
       "      <td>neutral</td>\n",
       "      <td>good</td>\n",
       "    </tr>\n",
       "    <tr>\n",
       "      <th>3</th>\n",
       "      <td>neutral</td>\n",
       "      <td>neutral</td>\n",
       "      <td>neutral</td>\n",
       "      <td>neutral</td>\n",
       "      <td>good</td>\n",
       "      <td>neutral</td>\n",
       "      <td>bad</td>\n",
       "      <td>neutral</td>\n",
       "      <td>good</td>\n",
       "    </tr>\n",
       "    <tr>\n",
       "      <th>4</th>\n",
       "      <td>bad</td>\n",
       "      <td>bad</td>\n",
       "      <td>bad</td>\n",
       "      <td>bad</td>\n",
       "      <td>bad</td>\n",
       "      <td>bad</td>\n",
       "      <td>bad</td>\n",
       "      <td>bad</td>\n",
       "      <td>bad</td>\n",
       "    </tr>\n",
       "    <tr>\n",
       "      <th>5</th>\n",
       "      <td>bad</td>\n",
       "      <td>neutral</td>\n",
       "      <td>bad</td>\n",
       "      <td>bad</td>\n",
       "      <td>bad</td>\n",
       "      <td>bad</td>\n",
       "      <td>bad</td>\n",
       "      <td>bad</td>\n",
       "      <td>bad</td>\n",
       "    </tr>\n",
       "    <tr>\n",
       "      <th>6</th>\n",
       "      <td>good</td>\n",
       "      <td>good</td>\n",
       "      <td>good</td>\n",
       "      <td>neutral</td>\n",
       "      <td>neutral</td>\n",
       "      <td>good</td>\n",
       "      <td>neutral</td>\n",
       "      <td>neutral</td>\n",
       "      <td>good</td>\n",
       "    </tr>\n",
       "    <tr>\n",
       "      <th>7</th>\n",
       "      <td>good</td>\n",
       "      <td>good</td>\n",
       "      <td>good</td>\n",
       "      <td>good</td>\n",
       "      <td>good</td>\n",
       "      <td>good</td>\n",
       "      <td>neutral</td>\n",
       "      <td>neutral</td>\n",
       "      <td>good</td>\n",
       "    </tr>\n",
       "    <tr>\n",
       "      <th>8</th>\n",
       "      <td>neutral</td>\n",
       "      <td>good</td>\n",
       "      <td>good</td>\n",
       "      <td>neutral</td>\n",
       "      <td>neutral</td>\n",
       "      <td>neutral</td>\n",
       "      <td>neutral</td>\n",
       "      <td>neutral</td>\n",
       "      <td>neutral</td>\n",
       "    </tr>\n",
       "    <tr>\n",
       "      <th>9</th>\n",
       "      <td>neutral</td>\n",
       "      <td>good</td>\n",
       "      <td>good</td>\n",
       "      <td>neutral</td>\n",
       "      <td>neutral</td>\n",
       "      <td>neutral</td>\n",
       "      <td>neutral</td>\n",
       "      <td>neutral</td>\n",
       "      <td>neutral</td>\n",
       "    </tr>\n",
       "    <tr>\n",
       "      <th>10</th>\n",
       "      <td>bad</td>\n",
       "      <td>good</td>\n",
       "      <td>good</td>\n",
       "      <td>neutral</td>\n",
       "      <td>good</td>\n",
       "      <td>bad</td>\n",
       "      <td>neutral</td>\n",
       "      <td>neutral</td>\n",
       "      <td>good</td>\n",
       "    </tr>\n",
       "    <tr>\n",
       "      <th>11</th>\n",
       "      <td>bad</td>\n",
       "      <td>good</td>\n",
       "      <td>good</td>\n",
       "      <td>good</td>\n",
       "      <td>good</td>\n",
       "      <td>neutral</td>\n",
       "      <td>neutral</td>\n",
       "      <td>neutral</td>\n",
       "      <td>good</td>\n",
       "    </tr>\n",
       "    <tr>\n",
       "      <th>12</th>\n",
       "      <td>good</td>\n",
       "      <td>good</td>\n",
       "      <td>neutral</td>\n",
       "      <td>neutral</td>\n",
       "      <td>neutral</td>\n",
       "      <td>neutral</td>\n",
       "      <td>neutral</td>\n",
       "      <td>neutral</td>\n",
       "      <td>good</td>\n",
       "    </tr>\n",
       "    <tr>\n",
       "      <th>13</th>\n",
       "      <td>good</td>\n",
       "      <td>neutral</td>\n",
       "      <td>neutral</td>\n",
       "      <td>neutral</td>\n",
       "      <td>neutral</td>\n",
       "      <td>good</td>\n",
       "      <td>good</td>\n",
       "      <td>neutral</td>\n",
       "      <td>good</td>\n",
       "    </tr>\n",
       "    <tr>\n",
       "      <th>14</th>\n",
       "      <td>neutral</td>\n",
       "      <td>good</td>\n",
       "      <td>neutral</td>\n",
       "      <td>neutral</td>\n",
       "      <td>neutral</td>\n",
       "      <td>neutral</td>\n",
       "      <td>neutral</td>\n",
       "      <td>neutral</td>\n",
       "      <td>neutral</td>\n",
       "    </tr>\n",
       "    <tr>\n",
       "      <th>15</th>\n",
       "      <td>neutral</td>\n",
       "      <td>good</td>\n",
       "      <td>neutral</td>\n",
       "      <td>neutral</td>\n",
       "      <td>neutral</td>\n",
       "      <td>neutral</td>\n",
       "      <td>neutral</td>\n",
       "      <td>neutral</td>\n",
       "      <td>neutral</td>\n",
       "    </tr>\n",
       "    <tr>\n",
       "      <th>16</th>\n",
       "      <td>bad</td>\n",
       "      <td>neutral</td>\n",
       "      <td>bad</td>\n",
       "      <td>bad</td>\n",
       "      <td>bad</td>\n",
       "      <td>bad</td>\n",
       "      <td>bad</td>\n",
       "      <td>bad</td>\n",
       "      <td>bad</td>\n",
       "    </tr>\n",
       "    <tr>\n",
       "      <th>17</th>\n",
       "      <td>bad</td>\n",
       "      <td>bad</td>\n",
       "      <td>bad</td>\n",
       "      <td>bad</td>\n",
       "      <td>bad</td>\n",
       "      <td>bad</td>\n",
       "      <td>bad</td>\n",
       "      <td>bad</td>\n",
       "      <td>bad</td>\n",
       "    </tr>\n",
       "    <tr>\n",
       "      <th>18</th>\n",
       "      <td>good</td>\n",
       "      <td>good</td>\n",
       "      <td>good</td>\n",
       "      <td>good</td>\n",
       "      <td>good</td>\n",
       "      <td>good</td>\n",
       "      <td>good</td>\n",
       "      <td>good</td>\n",
       "      <td>good</td>\n",
       "    </tr>\n",
       "    <tr>\n",
       "      <th>19</th>\n",
       "      <td>good</td>\n",
       "      <td>good</td>\n",
       "      <td>good</td>\n",
       "      <td>good</td>\n",
       "      <td>good</td>\n",
       "      <td>good</td>\n",
       "      <td>good</td>\n",
       "      <td>good</td>\n",
       "      <td>good</td>\n",
       "    </tr>\n",
       "    <tr>\n",
       "      <th>20</th>\n",
       "      <td>neutral</td>\n",
       "      <td>good</td>\n",
       "      <td>bad</td>\n",
       "      <td>neutral</td>\n",
       "      <td>neutral</td>\n",
       "      <td>neutral</td>\n",
       "      <td>neutral</td>\n",
       "      <td>neutral</td>\n",
       "      <td>good</td>\n",
       "    </tr>\n",
       "    <tr>\n",
       "      <th>21</th>\n",
       "      <td>neutral</td>\n",
       "      <td>good</td>\n",
       "      <td>bad</td>\n",
       "      <td>neutral</td>\n",
       "      <td>neutral</td>\n",
       "      <td>neutral</td>\n",
       "      <td>neutral</td>\n",
       "      <td>neutral</td>\n",
       "      <td>neutral</td>\n",
       "    </tr>\n",
       "    <tr>\n",
       "      <th>22</th>\n",
       "      <td>bad</td>\n",
       "      <td>good</td>\n",
       "      <td>bad</td>\n",
       "      <td>bad</td>\n",
       "      <td>bad</td>\n",
       "      <td>bad</td>\n",
       "      <td>bad</td>\n",
       "      <td>bad</td>\n",
       "      <td>bad</td>\n",
       "    </tr>\n",
       "    <tr>\n",
       "      <th>23</th>\n",
       "      <td>bad</td>\n",
       "      <td>good</td>\n",
       "      <td>bad</td>\n",
       "      <td>bad</td>\n",
       "      <td>bad</td>\n",
       "      <td>good</td>\n",
       "      <td>bad</td>\n",
       "      <td>bad</td>\n",
       "      <td>bad</td>\n",
       "    </tr>\n",
       "    <tr>\n",
       "      <th>24</th>\n",
       "      <td>good</td>\n",
       "      <td>good</td>\n",
       "      <td>bad</td>\n",
       "      <td>neutral</td>\n",
       "      <td>bad</td>\n",
       "      <td>good</td>\n",
       "      <td>neutral</td>\n",
       "      <td>bad</td>\n",
       "      <td>good</td>\n",
       "    </tr>\n",
       "    <tr>\n",
       "      <th>25</th>\n",
       "      <td>good</td>\n",
       "      <td>bad</td>\n",
       "      <td>bad</td>\n",
       "      <td>bad</td>\n",
       "      <td>bad</td>\n",
       "      <td>bad</td>\n",
       "      <td>bad</td>\n",
       "      <td>bad</td>\n",
       "      <td>bad</td>\n",
       "    </tr>\n",
       "    <tr>\n",
       "      <th>26</th>\n",
       "      <td>neutral</td>\n",
       "      <td>good</td>\n",
       "      <td>bad</td>\n",
       "      <td>neutral</td>\n",
       "      <td>bad</td>\n",
       "      <td>bad</td>\n",
       "      <td>neutral</td>\n",
       "      <td>bad</td>\n",
       "      <td>good</td>\n",
       "    </tr>\n",
       "    <tr>\n",
       "      <th>27</th>\n",
       "      <td>neutral</td>\n",
       "      <td>good</td>\n",
       "      <td>bad</td>\n",
       "      <td>neutral</td>\n",
       "      <td>bad</td>\n",
       "      <td>bad</td>\n",
       "      <td>neutral</td>\n",
       "      <td>bad</td>\n",
       "      <td>good</td>\n",
       "    </tr>\n",
       "    <tr>\n",
       "      <th>28</th>\n",
       "      <td>bad</td>\n",
       "      <td>bad</td>\n",
       "      <td>bad</td>\n",
       "      <td>bad</td>\n",
       "      <td>bad</td>\n",
       "      <td>bad</td>\n",
       "      <td>bad</td>\n",
       "      <td>bad</td>\n",
       "      <td>bad</td>\n",
       "    </tr>\n",
       "    <tr>\n",
       "      <th>29</th>\n",
       "      <td>bad</td>\n",
       "      <td>bad</td>\n",
       "      <td>bad</td>\n",
       "      <td>bad</td>\n",
       "      <td>bad</td>\n",
       "      <td>bad</td>\n",
       "      <td>bad</td>\n",
       "      <td>bad</td>\n",
       "      <td>bad</td>\n",
       "    </tr>\n",
       "    <tr>\n",
       "      <th>30</th>\n",
       "      <td>good</td>\n",
       "      <td>good</td>\n",
       "      <td>neutral</td>\n",
       "      <td>neutral</td>\n",
       "      <td>neutral</td>\n",
       "      <td>neutral</td>\n",
       "      <td>neutral</td>\n",
       "      <td>neutral</td>\n",
       "      <td>good</td>\n",
       "    </tr>\n",
       "    <tr>\n",
       "      <th>31</th>\n",
       "      <td>good</td>\n",
       "      <td>good</td>\n",
       "      <td>good</td>\n",
       "      <td>neutral</td>\n",
       "      <td>good</td>\n",
       "      <td>good</td>\n",
       "      <td>good</td>\n",
       "      <td>good</td>\n",
       "      <td>good</td>\n",
       "    </tr>\n",
       "    <tr>\n",
       "      <th>32</th>\n",
       "      <td>neutral</td>\n",
       "      <td>good</td>\n",
       "      <td>neutral</td>\n",
       "      <td>neutral</td>\n",
       "      <td>neutral</td>\n",
       "      <td>neutral</td>\n",
       "      <td>neutral</td>\n",
       "      <td>neutral</td>\n",
       "      <td>good</td>\n",
       "    </tr>\n",
       "    <tr>\n",
       "      <th>33</th>\n",
       "      <td>neutral</td>\n",
       "      <td>good</td>\n",
       "      <td>neutral</td>\n",
       "      <td>neutral</td>\n",
       "      <td>neutral</td>\n",
       "      <td>neutral</td>\n",
       "      <td>neutral</td>\n",
       "      <td>neutral</td>\n",
       "      <td>good</td>\n",
       "    </tr>\n",
       "    <tr>\n",
       "      <th>34</th>\n",
       "      <td>bad</td>\n",
       "      <td>bad</td>\n",
       "      <td>good</td>\n",
       "      <td>bad</td>\n",
       "      <td>bad</td>\n",
       "      <td>bad</td>\n",
       "      <td>bad</td>\n",
       "      <td>bad</td>\n",
       "      <td>bad</td>\n",
       "    </tr>\n",
       "    <tr>\n",
       "      <th>35</th>\n",
       "      <td>bad</td>\n",
       "      <td>bad</td>\n",
       "      <td>good</td>\n",
       "      <td>good</td>\n",
       "      <td>good</td>\n",
       "      <td>bad</td>\n",
       "      <td>bad</td>\n",
       "      <td>good</td>\n",
       "      <td>good</td>\n",
       "    </tr>\n",
       "  </tbody>\n",
       "</table>\n",
       "</div>"
      ],
      "text/plain": [
       "   true value      knn       dt       rf      svm   logreg   dense1   dense2  \\\n",
       "0        good      bad     good      bad     good     good      bad     good   \n",
       "1        good      bad      bad      bad     good     good      bad     good   \n",
       "2     neutral  neutral  neutral  neutral  neutral  neutral  neutral  neutral   \n",
       "3     neutral  neutral  neutral  neutral     good  neutral      bad  neutral   \n",
       "4         bad      bad      bad      bad      bad      bad      bad      bad   \n",
       "5         bad  neutral      bad      bad      bad      bad      bad      bad   \n",
       "6        good     good     good  neutral  neutral     good  neutral  neutral   \n",
       "7        good     good     good     good     good     good  neutral  neutral   \n",
       "8     neutral     good     good  neutral  neutral  neutral  neutral  neutral   \n",
       "9     neutral     good     good  neutral  neutral  neutral  neutral  neutral   \n",
       "10        bad     good     good  neutral     good      bad  neutral  neutral   \n",
       "11        bad     good     good     good     good  neutral  neutral  neutral   \n",
       "12       good     good  neutral  neutral  neutral  neutral  neutral  neutral   \n",
       "13       good  neutral  neutral  neutral  neutral     good     good  neutral   \n",
       "14    neutral     good  neutral  neutral  neutral  neutral  neutral  neutral   \n",
       "15    neutral     good  neutral  neutral  neutral  neutral  neutral  neutral   \n",
       "16        bad  neutral      bad      bad      bad      bad      bad      bad   \n",
       "17        bad      bad      bad      bad      bad      bad      bad      bad   \n",
       "18       good     good     good     good     good     good     good     good   \n",
       "19       good     good     good     good     good     good     good     good   \n",
       "20    neutral     good      bad  neutral  neutral  neutral  neutral  neutral   \n",
       "21    neutral     good      bad  neutral  neutral  neutral  neutral  neutral   \n",
       "22        bad     good      bad      bad      bad      bad      bad      bad   \n",
       "23        bad     good      bad      bad      bad     good      bad      bad   \n",
       "24       good     good      bad  neutral      bad     good  neutral      bad   \n",
       "25       good      bad      bad      bad      bad      bad      bad      bad   \n",
       "26    neutral     good      bad  neutral      bad      bad  neutral      bad   \n",
       "27    neutral     good      bad  neutral      bad      bad  neutral      bad   \n",
       "28        bad      bad      bad      bad      bad      bad      bad      bad   \n",
       "29        bad      bad      bad      bad      bad      bad      bad      bad   \n",
       "30       good     good  neutral  neutral  neutral  neutral  neutral  neutral   \n",
       "31       good     good     good  neutral     good     good     good     good   \n",
       "32    neutral     good  neutral  neutral  neutral  neutral  neutral  neutral   \n",
       "33    neutral     good  neutral  neutral  neutral  neutral  neutral  neutral   \n",
       "34        bad      bad     good      bad      bad      bad      bad      bad   \n",
       "35        bad      bad     good     good     good      bad      bad     good   \n",
       "\n",
       "    convnet  \n",
       "0      good  \n",
       "1      good  \n",
       "2      good  \n",
       "3      good  \n",
       "4       bad  \n",
       "5       bad  \n",
       "6      good  \n",
       "7      good  \n",
       "8   neutral  \n",
       "9   neutral  \n",
       "10     good  \n",
       "11     good  \n",
       "12     good  \n",
       "13     good  \n",
       "14  neutral  \n",
       "15  neutral  \n",
       "16      bad  \n",
       "17      bad  \n",
       "18     good  \n",
       "19     good  \n",
       "20     good  \n",
       "21  neutral  \n",
       "22      bad  \n",
       "23      bad  \n",
       "24     good  \n",
       "25      bad  \n",
       "26     good  \n",
       "27     good  \n",
       "28      bad  \n",
       "29      bad  \n",
       "30     good  \n",
       "31     good  \n",
       "32     good  \n",
       "33     good  \n",
       "34      bad  \n",
       "35     good  "
      ]
     },
     "execution_count": 10,
     "metadata": {},
     "output_type": "execute_result"
    }
   ],
   "source": [
    "# Load the classification results. \n",
    "load_classification_results('')\n",
    "load_neural_networks_results('')\n",
    "\n",
    "# Get the predictions of all classification models, as well as the true value. \n",
    "y_pred_all = pd.DataFrame()\n",
    "y_pred_all['true value'] = y_te\n",
    "y_pred_all_unique = np.zeros(36)\n",
    "for classification_model in ['knn', 'dt', 'rf', 'svm', 'logreg', 'dense1', 'dense2', 'convnet']:\n",
    "    y_pred_all[classification_model] = eval('y_pred_' + classification_model)\n",
    "\n",
    "# Compute the number of unique values predicted by the classification models. \n",
    "for statistical_map_index in range(0, 36):\n",
    "    y_pred_all_unique[statistical_map_index] = np.unique(y_pred_all.iloc[statistical_map_index, 1:]).shape[0]\n",
    "\n",
    "# Display these predictions. \n",
    "y_pred_all"
   ]
  },
  {
   "cell_type": "code",
   "execution_count": 11,
   "metadata": {},
   "outputs": [
    {
     "data": {
      "text/plain": [
       "array([2., 2., 2., 3., 1., 2., 2., 2., 2., 2., 3., 2., 2., 2., 2., 2., 2.,\n",
       "       1., 1., 1., 3., 3., 2., 2., 3., 1., 3., 3., 1., 1., 2., 2., 2., 2.,\n",
       "       2., 2.])"
      ]
     },
     "execution_count": 11,
     "metadata": {},
     "output_type": "execute_result"
    }
   ],
   "source": [
    "# Display the number of unique values predicted by the classification models. \n",
    "y_pred_all_unique"
   ]
  },
  {
   "cell_type": "code",
   "execution_count": 12,
   "metadata": {},
   "outputs": [
    {
     "data": {
      "text/plain": [
       "array([ True,  True,  True,  True, False,  True,  True])"
      ]
     },
     "execution_count": 12,
     "metadata": {},
     "output_type": "execute_result"
    }
   ],
   "source": [
    "# When all models agree, verify if they predicted the right value. \n",
    "# We compare the true values with the values predicted by one of the models, in the situations where all the models agree. \n",
    "y_te[y_pred_all_unique == 1] == y_pred_knn[y_pred_all_unique == 1]"
   ]
  },
  {
   "cell_type": "code",
   "execution_count": 13,
   "metadata": {},
   "outputs": [
    {
     "data": {
      "image/png": "[encoded data removed]",
      "text/plain": [
       "<Figure size 432x432 with 1 Axes>"
      ]
     },
     "metadata": {
      "needs_background": "light"
     },
     "output_type": "display_data"
    }
   ],
   "source": [
    "# Count how many different labels were attributed to each statistical map in the test set. \n",
    "y_pred_all_unique_count = pd.Series(y_pred_all_unique).value_counts().sort_index()\n",
    "\n",
    "# Display the result in a bar plot. \n",
    "fig, axes = plt.subplots(nrows = 1, ncols = 1, figsize = (6, 6))\n",
    "axes.bar([1, 2, 3], y_pred_all_unique_count.values)\n",
    "axes.set_xticks([1, 2, 3])\n",
    "axes.set_xticklabels(['1 label predicted', '2 labels predicted', '3 labels predicted'])\n",
    "axes.set_yticks(range(0, y_pred_all_unique_count.max() + 2))\n",
    "axes.set_ylabel('Number of statistical maps')\n",
    "axes.set_title('Do the classification models predictions converge?');"
   ]
  },
  {
   "cell_type": "markdown",
   "metadata": {},
   "source": [
    "**Result:** The predictions of the different classification models **converge on some statistical maps, and diverge on others**. When all models agree, they predicted the right value most of the time, but not always. "
   ]
  },
  {
   "cell_type": "markdown",
   "metadata": {},
   "source": [
    "### 2.4 Voting mechanism\n",
    "\n",
    "In the following cells, we implement a **weighted voting mechanism** in order to pool all the predictions from our classification models, starting with the dataset with the original voxel size. For each statistical map in the test set, we sum up the predictions of the k-NN, decision tree, random forest, SVM, logistic regression, 1-layer neural network, 2-layer neural network and convolutional neural network models, weighted by the difference between the accuracy of these models and the baseline of 33%. This weighted voting mechanism is quite experimental, but it gives an idea of the accuracy that can be reached if we pool all the predictions. A more advanced weighted voting mechanism could, for example, use when possible the probabilities computed by the models for the different target classes. "
   ]
  },
  {
   "cell_type": "code",
   "execution_count": 14,
   "metadata": {},
   "outputs": [],
   "source": [
    "# Define a function to apply a weighted voting mechanism. \n",
    "def voting_mechanism():\n",
    "    vote_array = np.zeros((36, 3))\n",
    "    target_values = np.array(['good', 'neutral', 'bad'])\n",
    "\n",
    "    # Loop over all models, statistical maps of the test set and possible target values. \n",
    "    for classification_model in ['knn', 'dt', 'rf', 'svm', 'logreg', 'dense1', 'dense2', 'convnet']:\n",
    "        for statistical_map_index in range(0, 36):\n",
    "            for target_index in range(0, 3):\n",
    "                if eval('y_pred_' + classification_model)[statistical_map_index] == target_values[target_index]:\n",
    "                    weighted_vote = eval('test_score_' + classification_model) - 1/3\n",
    "                    vote_array[statistical_map_index, target_index] += weighted_vote\n",
    "\n",
    "    # Compute the predictions and the accuracy. \n",
    "    y_pred_voting = target_values[vote_array.argmax(axis = 1)]\n",
    "    voting_accuracy = np.sum(y_te == y_pred_voting) / y_te.shape[0]\n",
    "    return y_pred_voting, voting_accuracy"
   ]
  },
  {
   "cell_type": "code",
   "execution_count": 15,
   "metadata": {},
   "outputs": [],
   "source": [
    "# Define a function to apply a weighted voting mechanism through all the rescale modes. \n",
    "def voting_mechanism_all_rescale_modes():\n",
    "    vote_array = np.zeros((36, 3))\n",
    "    target_values = np.array(['good', 'neutral', 'bad'])\n",
    "\n",
    "    # Loop over all rescale modes, models, statistical maps of the test set and possible target values. \n",
    "    for rescale_mode in ['', '_r2', '_r3', '_r4']:\n",
    "        load_classification_results(rescale_mode)\n",
    "        load_neural_networks_results(rescale_mode)\n",
    "        for classification_model in ['knn', 'dt', 'rf', 'svm', 'logreg', 'dense1', 'dense2', 'convnet']:\n",
    "            for statistical_map_index in range(0, 36):\n",
    "                for target_index in range(0, 3):\n",
    "                    if eval('y_pred_' + classification_model)[statistical_map_index] == target_values[target_index]:\n",
    "                        weighted_vote = eval('test_score_' + classification_model) - 1/3\n",
    "                        vote_array[statistical_map_index, target_index] += weighted_vote\n",
    "\n",
    "    # Compute the predictions and the accuracy. \n",
    "    y_pred_voting = target_values[vote_array.argmax(axis = 1)]\n",
    "    voting_accuracy = np.sum(y_te == y_pred_voting) / y_te.shape[0]\n",
    "    return y_pred_voting, voting_accuracy"
   ]
  },
  {
   "cell_type": "code",
   "execution_count": 16,
   "metadata": {},
   "outputs": [],
   "source": [
    "# Define a function to generate a Scikit-learn confusion matrix. \n",
    "def scikit_learn_confusion_matrix(y_te, y_pred):\n",
    "    # Compute the confusion matrix. \n",
    "    labels = ['good', 'neutral', 'bad']\n",
    "    matrix = confusion_matrix(\n",
    "        y_true = y_te,\n",
    "        y_pred = y_pred, \n",
    "        labels = labels\n",
    "    )\n",
    "\n",
    "    # Return confusion matrix as a DataFrame. \n",
    "    matrix_df = pd.DataFrame(data = matrix, columns = labels, index = labels)\n",
    "    matrix_df.columns.name = 'Predictions'\n",
    "    matrix_df.index.name = 'True class'\n",
    "    return matrix_df"
   ]
  },
  {
   "cell_type": "code",
   "execution_count": 17,
   "metadata": {},
   "outputs": [
    {
     "data": {
      "text/plain": [
       "array(['good', 'good', 'neutral', 'neutral', 'bad', 'bad', 'neutral',\n",
       "       'good', 'neutral', 'neutral', 'good', 'good', 'neutral', 'neutral',\n",
       "       'neutral', 'neutral', 'bad', 'bad', 'good', 'good', 'neutral',\n",
       "       'neutral', 'bad', 'bad', 'good', 'bad', 'bad', 'bad', 'bad', 'bad',\n",
       "       'neutral', 'good', 'neutral', 'neutral', 'bad', 'good'],\n",
       "      dtype='<U7')"
      ]
     },
     "execution_count": 17,
     "metadata": {},
     "output_type": "execute_result"
    }
   ],
   "source": [
    "# Load the classification results. \n",
    "load_classification_results('')\n",
    "load_neural_networks_results('')\n",
    "\n",
    "# Compute the predictions through a voting mechanism. \n",
    "y_pred_voting, voting_accuracy = voting_mechanism()\n",
    "y_pred_voting"
   ]
  },
  {
   "cell_type": "code",
   "execution_count": 18,
   "metadata": {},
   "outputs": [
    {
     "data": {
      "text/html": [
       "<div>\n",
       "<style scoped>\n",
       "    .dataframe tbody tr th:only-of-type {\n",
       "        vertical-align: middle;\n",
       "    }\n",
       "\n",
       "    .dataframe tbody tr th {\n",
       "        vertical-align: top;\n",
       "    }\n",
       "\n",
       "    .dataframe thead th {\n",
       "        text-align: right;\n",
       "    }\n",
       "</style>\n",
       "<table border=\"1\" class=\"dataframe\">\n",
       "  <thead>\n",
       "    <tr style=\"text-align: right;\">\n",
       "      <th>Predictions</th>\n",
       "      <th>good</th>\n",
       "      <th>neutral</th>\n",
       "      <th>bad</th>\n",
       "    </tr>\n",
       "    <tr>\n",
       "      <th>True class</th>\n",
       "      <th></th>\n",
       "      <th></th>\n",
       "      <th></th>\n",
       "    </tr>\n",
       "  </thead>\n",
       "  <tbody>\n",
       "    <tr>\n",
       "      <th>good</th>\n",
       "      <td>7</td>\n",
       "      <td>4</td>\n",
       "      <td>1</td>\n",
       "    </tr>\n",
       "    <tr>\n",
       "      <th>neutral</th>\n",
       "      <td>0</td>\n",
       "      <td>10</td>\n",
       "      <td>2</td>\n",
       "    </tr>\n",
       "    <tr>\n",
       "      <th>bad</th>\n",
       "      <td>3</td>\n",
       "      <td>0</td>\n",
       "      <td>9</td>\n",
       "    </tr>\n",
       "  </tbody>\n",
       "</table>\n",
       "</div>"
      ],
      "text/plain": [
       "Predictions  good  neutral  bad\n",
       "True class                     \n",
       "good            7        4    1\n",
       "neutral         0       10    2\n",
       "bad             3        0    9"
      ]
     },
     "execution_count": 18,
     "metadata": {},
     "output_type": "execute_result"
    }
   ],
   "source": [
    "# Display a Scikit-learn confusion matrix. \n",
    "confusion_matrix_voting = scikit_learn_confusion_matrix(y_te, y_pred_voting)\n",
    "confusion_matrix_voting"
   ]
  },
  {
   "cell_type": "code",
   "execution_count": 19,
   "metadata": {},
   "outputs": [
    {
     "data": {
      "text/plain": [
       "0.7222222222222222"
      ]
     },
     "execution_count": 19,
     "metadata": {},
     "output_type": "execute_result"
    }
   ],
   "source": [
    "# Display the accuracy obtained through the voting mechanism. \n",
    "voting_accuracy"
   ]
  },
  {
   "cell_type": "code",
   "execution_count": 20,
   "metadata": {},
   "outputs": [
    {
     "data": {
      "text/plain": [
       "logreg    80.56\n",
       "dtype: float64"
      ]
     },
     "execution_count": 20,
     "metadata": {},
     "output_type": "execute_result"
    }
   ],
   "source": [
    "# Display the models that outperform the voting accuracy. \n",
    "classification_results[classification_results > (100 * voting_accuracy)]"
   ]
  },
  {
   "cell_type": "markdown",
   "metadata": {},
   "source": [
    "**Result (1/2):** This experimental weighted voting mechanism achieves a **relatively good accuracy**, better than most individual models. Overall, when this mechanism is applied, the good, neutral and bad maps are relatively well classified. In the following cells, we apply the same process, but this time we use the predictions from all the rescaling modes. "
   ]
  },
  {
   "cell_type": "code",
   "execution_count": 21,
   "metadata": {},
   "outputs": [
    {
     "data": {
      "text/plain": [
       "array(['good', 'good', 'neutral', 'good', 'bad', 'bad', 'good', 'good',\n",
       "       'neutral', 'neutral', 'bad', 'good', 'neutral', 'good', 'neutral',\n",
       "       'neutral', 'bad', 'bad', 'good', 'good', 'neutral', 'neutral',\n",
       "       'bad', 'bad', 'good', 'bad', 'bad', 'bad', 'bad', 'bad', 'neutral',\n",
       "       'good', 'neutral', 'neutral', 'bad', 'good'], dtype='<U7')"
      ]
     },
     "execution_count": 21,
     "metadata": {},
     "output_type": "execute_result"
    }
   ],
   "source": [
    "# Compute the predictions through a voting mechanism. \n",
    "y_pred_voting, voting_accuracy = voting_mechanism_all_rescale_modes()\n",
    "y_pred_voting"
   ]
  },
  {
   "cell_type": "code",
   "execution_count": 22,
   "metadata": {},
   "outputs": [
    {
     "data": {
      "text/html": [
       "<div>\n",
       "<style scoped>\n",
       "    .dataframe tbody tr th:only-of-type {\n",
       "        vertical-align: middle;\n",
       "    }\n",
       "\n",
       "    .dataframe tbody tr th {\n",
       "        vertical-align: top;\n",
       "    }\n",
       "\n",
       "    .dataframe thead th {\n",
       "        text-align: right;\n",
       "    }\n",
       "</style>\n",
       "<table border=\"1\" class=\"dataframe\">\n",
       "  <thead>\n",
       "    <tr style=\"text-align: right;\">\n",
       "      <th>Predictions</th>\n",
       "      <th>good</th>\n",
       "      <th>neutral</th>\n",
       "      <th>bad</th>\n",
       "    </tr>\n",
       "    <tr>\n",
       "      <th>True class</th>\n",
       "      <th></th>\n",
       "      <th></th>\n",
       "      <th></th>\n",
       "    </tr>\n",
       "  </thead>\n",
       "  <tbody>\n",
       "    <tr>\n",
       "      <th>good</th>\n",
       "      <td>9</td>\n",
       "      <td>2</td>\n",
       "      <td>1</td>\n",
       "    </tr>\n",
       "    <tr>\n",
       "      <th>neutral</th>\n",
       "      <td>1</td>\n",
       "      <td>9</td>\n",
       "      <td>2</td>\n",
       "    </tr>\n",
       "    <tr>\n",
       "      <th>bad</th>\n",
       "      <td>2</td>\n",
       "      <td>0</td>\n",
       "      <td>10</td>\n",
       "    </tr>\n",
       "  </tbody>\n",
       "</table>\n",
       "</div>"
      ],
      "text/plain": [
       "Predictions  good  neutral  bad\n",
       "True class                     \n",
       "good            9        2    1\n",
       "neutral         1        9    2\n",
       "bad             2        0   10"
      ]
     },
     "execution_count": 22,
     "metadata": {},
     "output_type": "execute_result"
    }
   ],
   "source": [
    "# Display a Scikit-learn confusion matrix. \n",
    "confusion_matrix_voting = scikit_learn_confusion_matrix(y_te, y_pred_voting)\n",
    "confusion_matrix_voting"
   ]
  },
  {
   "cell_type": "code",
   "execution_count": 23,
   "metadata": {},
   "outputs": [
    {
     "data": {
      "text/plain": [
       "0.7777777777777778"
      ]
     },
     "execution_count": 23,
     "metadata": {},
     "output_type": "execute_result"
    }
   ],
   "source": [
    "# Display the accuracy obtained through the voting mechanism. \n",
    "voting_accuracy"
   ]
  },
  {
   "cell_type": "markdown",
   "metadata": {},
   "source": [
    "**Result (2/2):** This experimental weighted voting mechanism achieves also a **relatively good accuracy** when applied to all our results through the different rescaling modes. Overall, when this mechanism is applied, the good, neutral and bad maps are also relatively well classified. "
   ]
  },
  {
   "cell_type": "markdown",
   "metadata": {},
   "source": [
    "## **3. Regression results**\n",
    "\n",
    "### 3.1 Model comparison\n",
    "\n",
    "In the following cells, we **compare the performance of the regression models**, using the dataset with the original voxel size. By default, we use the Mean Squared Error (MSE) as a comparison metric, since this is the measure we used for the fine-tuning of the Ridge model. But we can also display the graph using the Mean Average Error (MAE), since this metric has a straigtforward interpretation: it measures the average difference between the true value and the predicted value for every voxel or cluster of interest in the test set. Both metrics give similar results. "
   ]
  },
  {
   "cell_type": "code",
   "execution_count": 24,
   "metadata": {},
   "outputs": [
    {
     "data": {
      "text/plain": [
       "baseline       4.05629\n",
       "lr             2.42136\n",
       "huber          1.69328\n",
       "ridge          2.42144\n",
       "lr_categ       2.42208\n",
       "huber_categ    1.69542\n",
       "ridge_categ    2.42137\n",
       "dtype: float64"
      ]
     },
     "execution_count": 24,
     "metadata": {},
     "output_type": "execute_result"
    }
   ],
   "source": [
    "# Load the regression results. \n",
    "load_regression_results('')\n",
    "\n",
    "# Define the comparison metric: 'mse', 'mae', 'rss' or 'r2'. \n",
    "comparison_metric = 'mse'\n",
    "\n",
    "# Convert the results into a Series. \n",
    "regression_results = pd.Series()\n",
    "for regression_model in ['baseline', 'lr', 'huber', 'ridge', 'lr_categ', 'huber_categ', 'ridge_categ']:\n",
    "    regression_results[regression_model] = np.round(eval(comparison_metric + '_' + regression_model), 5)\n",
    "    \n",
    "# Display the Series. \n",
    "regression_results"
   ]
  },
  {
   "cell_type": "code",
   "execution_count": 25,
   "metadata": {},
   "outputs": [
    {
     "data": {
      "image/png": "[encoded data removed]",
      "text/plain": [
       "<Figure size 720x576 with 1 Axes>"
      ]
     },
     "metadata": {
      "needs_background": "light"
     },
     "output_type": "display_data"
    }
   ],
   "source": [
    "# Display the results in a graph. \n",
    "fig, axes = plt.subplots(nrows = 1, ncols = 1, figsize = (10, 8))\n",
    "axes.bar(regression_results.index, regression_results.values, width = 0.8)\n",
    "axes.set_ylabel(comparison_metric.upper())\n",
    "axes.set_title('Regression models')\n",
    "\n",
    "# Point the best model on the graph. \n",
    "axes.scatter(regression_results.idxmin(), regression_results.min() / 2, marker = 'x', c = 'cyan', zorder = 10);"
   ]
  },
  {
   "cell_type": "markdown",
   "metadata": {},
   "source": [
    "**Result: All the regression models perform better than the baseline**. The **regression with Huber loss without the categorical variable** shows the best performance. As we discussed in the previous Notebook, the linear regression and the Ridge regression give very similar results, and adding the categorical variable does not improve the performance. "
   ]
  },
  {
   "cell_type": "markdown",
   "metadata": {},
   "source": [
    "### 3.2 Rescale mode comparison\n",
    "\n",
    "In the following cells, we compare again the performance of the regression models, but this time we display the results for **all the possible rescaling modes**: original voxel size, and voxel size rescaled by a factor 2, 3 or 4. "
   ]
  },
  {
   "cell_type": "code",
   "execution_count": 26,
   "metadata": {},
   "outputs": [
    {
     "data": {
      "text/html": [
       "<div>\n",
       "<style scoped>\n",
       "    .dataframe tbody tr th:only-of-type {\n",
       "        vertical-align: middle;\n",
       "    }\n",
       "\n",
       "    .dataframe tbody tr th {\n",
       "        vertical-align: top;\n",
       "    }\n",
       "\n",
       "    .dataframe thead th {\n",
       "        text-align: right;\n",
       "    }\n",
       "</style>\n",
       "<table border=\"1\" class=\"dataframe\">\n",
       "  <thead>\n",
       "    <tr style=\"text-align: right;\">\n",
       "      <th></th>\n",
       "      <th>Original size</th>\n",
       "      <th>Factor 2</th>\n",
       "      <th>Factor 3</th>\n",
       "      <th>Factor 4</th>\n",
       "    </tr>\n",
       "  </thead>\n",
       "  <tbody>\n",
       "    <tr>\n",
       "      <th>baseline</th>\n",
       "      <td>4.05629</td>\n",
       "      <td>12.35300</td>\n",
       "      <td>16.65456</td>\n",
       "      <td>10.95531</td>\n",
       "    </tr>\n",
       "    <tr>\n",
       "      <th>lr</th>\n",
       "      <td>2.42136</td>\n",
       "      <td>2.72662</td>\n",
       "      <td>4.35007</td>\n",
       "      <td>1.54814</td>\n",
       "    </tr>\n",
       "    <tr>\n",
       "      <th>huber</th>\n",
       "      <td>1.69328</td>\n",
       "      <td>2.31718</td>\n",
       "      <td>3.07093</td>\n",
       "      <td>1.58485</td>\n",
       "    </tr>\n",
       "    <tr>\n",
       "      <th>ridge</th>\n",
       "      <td>2.42144</td>\n",
       "      <td>2.72750</td>\n",
       "      <td>4.35205</td>\n",
       "      <td>1.54793</td>\n",
       "    </tr>\n",
       "    <tr>\n",
       "      <th>lr_categ</th>\n",
       "      <td>2.42208</td>\n",
       "      <td>2.72658</td>\n",
       "      <td>4.36039</td>\n",
       "      <td>1.54845</td>\n",
       "    </tr>\n",
       "    <tr>\n",
       "      <th>huber_categ</th>\n",
       "      <td>1.69542</td>\n",
       "      <td>2.43438</td>\n",
       "      <td>3.38623</td>\n",
       "      <td>1.58486</td>\n",
       "    </tr>\n",
       "    <tr>\n",
       "      <th>ridge_categ</th>\n",
       "      <td>2.42137</td>\n",
       "      <td>2.72730</td>\n",
       "      <td>4.35324</td>\n",
       "      <td>1.54839</td>\n",
       "    </tr>\n",
       "  </tbody>\n",
       "</table>\n",
       "</div>"
      ],
      "text/plain": [
       "             Original size  Factor 2  Factor 3  Factor 4\n",
       "baseline           4.05629  12.35300  16.65456  10.95531\n",
       "lr                 2.42136   2.72662   4.35007   1.54814\n",
       "huber              1.69328   2.31718   3.07093   1.58485\n",
       "ridge              2.42144   2.72750   4.35205   1.54793\n",
       "lr_categ           2.42208   2.72658   4.36039   1.54845\n",
       "huber_categ        1.69542   2.43438   3.38623   1.58486\n",
       "ridge_categ        2.42137   2.72730   4.35324   1.54839"
      ]
     },
     "execution_count": 26,
     "metadata": {},
     "output_type": "execute_result"
    }
   ],
   "source": [
    "# Define the comparison metric: 'mse', 'mae', 'rss' or 'r2'. \n",
    "comparison_metric = 'mse'\n",
    "\n",
    "# Define a DataFrame to save the results. \n",
    "all_regression_results = pd.DataFrame()\n",
    "\n",
    "# Loop over all the rescale modes. \n",
    "for rescale_mode in ['', '_r2', '_r3', '_r4']:\n",
    "    \n",
    "    # Load the regression results. \n",
    "    load_regression_results(rescale_mode)\n",
    "\n",
    "    # Load the results into the DataFrame. \n",
    "    for regression_model in ['baseline', 'lr', 'huber', 'ridge', 'lr_categ', 'huber_categ', 'ridge_categ']:\n",
    "        all_regression_results.loc[regression_model, rescale_mode] = np.round(eval(comparison_metric + '_' + regression_model), 5)\n",
    "\n",
    "# Rename the columns and display the DataFrame. \n",
    "all_regression_results.columns = ['Original size', 'Factor 2', 'Factor 3', 'Factor 4']\n",
    "all_regression_results"
   ]
  },
  {
   "cell_type": "code",
   "execution_count": 27,
   "metadata": {},
   "outputs": [
    {
     "data": {
      "image/png": "[encoded data removed]",
      "text/plain": [
       "<Figure size 1008x576 with 1 Axes>"
      ]
     },
     "metadata": {
      "needs_background": "light"
     },
     "output_type": "display_data"
    }
   ],
   "source": [
    "# Display the results in a graph. \n",
    "fig, axes = plt.subplots(nrows = 1, ncols = 1, figsize = (14, 8))\n",
    "x_coord = np.array(range(0, 7))\n",
    "\n",
    "for rescale_mode in ['Original size', 'Factor 2', 'Factor 3', 'Factor 4']:\n",
    "    axes.bar(x_coord, all_regression_results[rescale_mode].values, width = 0.2, label = rescale_mode)\n",
    "    x_coord = x_coord + 0.2\n",
    "\n",
    "# Add labels and title. \n",
    "axes.set_xticks(np.array(range(0, 7)) + 0.4)\n",
    "axes.set_xticklabels(['baseline', 'lr', 'huber', 'ridge', 'lr_categ', 'huber_categ', 'ridge_categ'])\n",
    "axes.set_ylabel(comparison_metric.upper())\n",
    "axes.legend()\n",
    "axes.set_title('Regression models');"
   ]
  },
  {
   "cell_type": "markdown",
   "metadata": {},
   "source": [
    "**Result: All the regression models, for all the rescaling modes, perform better than the baseline**. Like for the classification models, the dataset with the original voxel size does not always give the best results. Overall, it is again difficult to see a general tendency in favor of more or less rescaling, except maybe for the baseline which is better with the original voxel size. Again, if this type of work had to be replicated with an entirely different neuroimaging dataset, it may be interesting to also systematically explore the results across several rescaling modes, since the right rescaling factor might depend on the dataset. For example, the experimental conditions, but also the original voxel size, the raw voxel size from the fMRI scanner and the neuroimaging pipeline used to create the statistical maps, might all have an influence. "
   ]
  },
  {
   "cell_type": "markdown",
   "metadata": {},
   "source": [
    "## **4. Discussion**\n",
    "\n",
    "The problem addressed by this project presented three significant initial difficulties. First, the **dimensionality of our dataset was very high** compared to its cardinality. Second, for the classification task, the EDA showed **no clear relationship between the features and the target**, i.e. between the values from the statistical maps and the good, neutral and bad experimental conditions. Third, also for the classification task, it appeared **very difficult to recognize the patterns with visual inspection**, which could raise the question whether the problem could even be solved by machine learning models. \n",
    "\n",
    "Despite these difficulties, **all the classification and regression models performed better than the baseline**. Some models achieved even a relatively good performance, while other models performed just slightly better than the baseline. Specifically, k-NN models are often particularly affected by the curse of dimensionality, and indeed, our k-NN model achieved only a modest performance. Neural networks are stochastic by nature and the results can vary with every run, but overall the accuracy of the 1-layer and 2-layer dense networks were quite similar. This seems to indicate that there is no significant benefit to add a hidden layer, maybe because we work with well-structured, highly-normalized statistical maps, where all the relevant information might be directly extracted by a simple 1-layer network. \n",
    "\n",
    "This project provided the opportunity to develop and test two experimental methods: the **combination of multiple convolutional neural networks** trained accross several sections of all neurological views, and the **computation of a predictability map** covering all the clusters of the brain. These two methods were quite interesting to imagine and implement, and allowed us to expand our analysis possibilities. For example, we were able to evaluate the accuracy of convolutional networks through the sagittal, coronal and axial view, and to identify the most predictable and least predictable clusters of the brain in our dataset. \n",
    "\n",
    "This project also raises **multiple questions**. Can we apply machine learning models to all sorts of neuroimaging datasets? Are some statistical maps easier to classify than others? Are some rescaling modes more relevant than others? How could we explain that for some statistical maps, most classification models converge on the same result, while they diverge for others? What kind of scientific knowledge could we extract from predictability maps?\n",
    "\n",
    "It is probable that **more opportunities for data analysis and machine learning will arise** when more and more researchers will store and share their data in open data repositories like NeuroVault. Since the fMRI studies tend to include more and more subjects, hopefully the datasets will also become larger, and machine learning might one day become a part of the standard neuroimaging analysis pipeline. "
   ]
  },
  {
   "cell_type": "markdown",
   "metadata": {},
   "source": [
    "## **5. Conclusion**\n",
    "\n",
    "This project demonstrated that it is possible to **train machine learning models to recognize and predict brain activity**. Classification models can be used to classify statistical maps with an accuracy higher than the level of chance, and regression models can be used to predict the value of a specific voxel or cluster with a performance better than the baseline. Overall, the success of these models seems to prove that **machine learning can be used to extract subtle patterns from fMRI data**, which are on the other hand very difficult to recognize by visual inspection. \n",
    "\n",
    "As we mentioned in the introduction of the first Notebook, the objective of a neuroimaging research using fMRI is to obtain relevant and generalizable knowledge about the brain activity. For a given fMRI dataset, proving that machine learning models can be trained to classify and predict the brain activity could be a **strong argument in favor of relevance and generalization**. This project was conducted on a specific fMRI dataset, but the analyses developed in these Notebooks could likely be applied to other functional neuroimaging studies. Therefore, they might present an interest for the neuroimaging community, as well as for machine learning developers. "
   ]
  },
  {
   "cell_type": "code",
   "execution_count": null,
   "metadata": {},
   "outputs": [],
   "source": []
  }
 ],
 "metadata": {
  "kernelspec": {
   "display_name": "Python 3",
   "language": "python",
   "name": "python3"
  },
  "language_info": {
   "codemirror_mode": {
    "name": "ipython",
    "version": 3
   },
   "file_extension": ".py",
   "mimetype": "text/x-python",
   "name": "python",
   "nbconvert_exporter": "python",
   "pygments_lexer": "ipython3",
   "version": "3.6.11"
  }
 },
 "nbformat": 4,
 "nbformat_minor": 4
}
